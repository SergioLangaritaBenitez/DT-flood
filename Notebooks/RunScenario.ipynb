{
 "cells": [
  {
   "cell_type": "code",
   "execution_count": 1,
   "metadata": {},
   "outputs": [],
   "source": [
    "from pathlib import Path\n",
    "\n",
    "import sys\n",
    "sys.path.insert(0, 'c:/Repositories/FloodAdapt/')\n",
    "\n",
    "from flood_adapt.object_model.scenario import Scenario\n",
    "from flood_adapt.object_model.site import Site"
   ]
  },
  {
   "cell_type": "markdown",
   "metadata": {},
   "source": [
    "## Select the scenario and set path to .toml file"
   ]
  },
  {
   "cell_type": "code",
   "execution_count": 2,
   "metadata": {},
   "outputs": [],
   "source": [
    "model_root = Path('c:/Repositories/DT-flood/FloodAdapt_database/Humber/')\n",
    "\n",
    "scenario_name = 'empty_event_current_no_measures'\n",
    "scenario_fn = model_root / 'input' / 'scenarios' / scenario_name / f\"{scenario_name}.toml\""
   ]
  },
  {
   "cell_type": "markdown",
   "metadata": {},
   "source": [
    "## Read in site.toml\n",
    "Not strictly necessary, might be helpful as a summary of the settings used when running"
   ]
  },
  {
   "cell_type": "code",
   "execution_count": 3,
   "metadata": {},
   "outputs": [],
   "source": [
    "site_fn = model_root / 'static' / 'site' / 'site.toml'\n",
    "site_obj = Site.load_file(site_fn)"
   ]
  },
  {
   "cell_type": "code",
   "execution_count": 4,
   "metadata": {},
   "outputs": [
    {
     "data": {
      "text/plain": [
       "{'name': 'Humber',\n",
       " 'description': 'Humber Delta, UK',\n",
       " 'lat': 53.66,\n",
       " 'lon': -0.47,\n",
       " 'sfincs': {'csname': 'WGS 84 / UTM zone 30N',\n",
       "  'cstype': <Cstype.projected: 'projected'>,\n",
       "  'version': 'SFINCS_v2.0.1_tag_exe',\n",
       "  'offshore_model': '',\n",
       "  'overland_model': 'overland',\n",
       "  'ambient_air_pressure': 102005.0,\n",
       "  'floodmap_units': <UnitTypesLength.meters: 'meters'>,\n",
       "  'save_simulation': False},\n",
       " 'water_level': {'reference': {'name': 'MSL',\n",
       "   'height': {'value': 0.0, 'units': <UnitTypesLength.meters: 'meters'>}},\n",
       "  'localdatum': {'name': 'EGM2008',\n",
       "   'height': {'value': 0.0, 'units': <UnitTypesLength.meters: 'meters'>}},\n",
       "  'msl': {'name': 'MSL',\n",
       "   'height': {'value': 0.0, 'units': <UnitTypesLength.meters: 'meters'>}},\n",
       "  'other': None},\n",
       " 'cyclone_track_database': {'file': ''},\n",
       " 'slr': {'vertical_offset': {'value': 0.2,\n",
       "   'units': <UnitTypesLength.meters: 'meters'>},\n",
       "  'relative_to_year': 2020},\n",
       " 'gui': {'tide_harmonic_amplitude': {'value': 0.0,\n",
       "   'units': <UnitTypesLength.meters: 'meters'>},\n",
       "  'default_length_units': <UnitTypesLength.meters: 'meters'>,\n",
       "  'default_distance_units': <UnitTypesLength.meters: 'meters'>,\n",
       "  'default_area_units': <UnitTypesArea.m2: 'm2'>,\n",
       "  'default_volume_units': <UnitTypesVolume.m3: 'm3'>,\n",
       "  'default_velocity_units': <UnitTypesVelocity.meters: 'm/s'>,\n",
       "  'default_discharge_units': <UnitTypesDischarge.cms: 'm3/s'>,\n",
       "  'default_intensity_units': <UnitTypesIntensity.mm: 'mm/hr'>},\n",
       " 'risk': {'flooding_threshold': {'value': 0.15,\n",
       "   'units': <UnitTypesLength.meters: 'meters'>},\n",
       "  'return_periods': [1, 2, 5, 10, 25, 50, 100]},\n",
       " 'dem': {'filename': 'Humber_subgrid.tif',\n",
       "  'units': <UnitTypesLength.meters: 'meters'>,\n",
       "  'indexfilename': 'Humber_index.tif'},\n",
       " 'fiat': {'exposure_crs': 'EPSG:4326',\n",
       "  'bfe': {'geom': '', 'table': None, 'field_name': ''},\n",
       "  'aggregation': [{'name': '', 'file': '', 'field_name': '', 'equity': None}],\n",
       "  'floodmap_type': <Floodmap_type.water_level: 'water_level'>,\n",
       "  'non_building_names': None,\n",
       "  'damage_unit': '$',\n",
       "  'building_footprints': None,\n",
       "  'roads_file_name': None,\n",
       "  'new_development_file_name': None,\n",
       "  'save_simulation': False,\n",
       "  'svi': None},\n",
       " 'river': [],\n",
       " 'obs_station': None,\n",
       " 'benefits': {'current_year': 2023,\n",
       "  'current_projection': 'current',\n",
       "  'baseline_strategy': 'no_measures',\n",
       "  'event_set': 'test_set'},\n",
       " 'scs': None,\n",
       " 'standard_objects': {'events': [], 'projections': [], 'strategies': []}}"
      ]
     },
     "execution_count": 4,
     "metadata": {},
     "output_type": "execute_result"
    }
   ],
   "source": [
    "site_obj.attrs.dict()"
   ]
  },
  {
   "cell_type": "markdown",
   "metadata": {},
   "source": [
    "## Load in scenario"
   ]
  },
  {
   "cell_type": "code",
   "execution_count": 5,
   "metadata": {},
   "outputs": [],
   "source": [
    "scenario = Scenario.load_file(scenario_fn)"
   ]
  },
  {
   "cell_type": "markdown",
   "metadata": {},
   "source": [
    "## Run scenario\n",
    "\n",
    "Running a scenario will throw an error in the postprocessing phase due to missing inputs for creating infometrics. The SFINCS and FIAT models will have run correctly though and have their outputs saved.\n",
    "*For later: split this up into separate calls of init_, preprocess, run, and postprocess model methods*"
   ]
  },
  {
   "cell_type": "code",
   "execution_count": 7,
   "metadata": {},
   "outputs": [
    {
     "name": "stdout",
     "output_type": "stream",
     "text": [
      "Hazard for scenario 'Empty_Event_current_no_measures' has already been run.\n",
      "Direct impacts for scenario 'Empty_Event_current_no_measures' has already been run.\n"
     ]
    }
   ],
   "source": [
    "scenario.run()"
   ]
  },
  {
   "cell_type": "code",
   "execution_count": 8,
   "metadata": {},
   "outputs": [
    {
     "ename": "ValueError",
     "evalue": "No aggregation labels specified in the metrics file, but include_aggregates is set to True.",
     "output_type": "error",
     "traceback": [
      "\u001b[1;31m---------------------------------------------------------------------------\u001b[0m",
      "\u001b[1;31mValueError\u001b[0m                                Traceback (most recent call last)",
      "\u001b[1;32mc:\\Users\\tromp_wm\\OneDrive - Stichting Deltares\\Documents\\FloodAdapt Setup\\RunScenario.ipynb Cell 11\u001b[0m line \u001b[0;36m1\n\u001b[1;32m----> <a href='vscode-notebook-cell:/c%3A/Users/tromp_wm/OneDrive%20-%20Stichting%20Deltares/Documents/FloodAdapt%20Setup/RunScenario.ipynb#X13sZmlsZQ%3D%3D?line=0'>1</a>\u001b[0m scenario\u001b[39m.\u001b[39;49mdirect_impacts\u001b[39m.\u001b[39;49mpostprocess_fiat()\n",
      "File \u001b[1;32mC:\\Repositories\\FloodAdapt\\flood_adapt\\object_model\\direct_impacts.py:261\u001b[0m, in \u001b[0;36mDirectImpacts.postprocess_fiat\u001b[1;34m(self)\u001b[0m\n\u001b[0;32m    258\u001b[0m fiat_results_df \u001b[39m=\u001b[39m pd\u001b[39m.\u001b[39mread_csv(fiat_results_path)\n\u001b[0;32m    260\u001b[0m \u001b[39m# Create the infometrics files\u001b[39;00m\n\u001b[1;32m--> 261\u001b[0m metrics_path \u001b[39m=\u001b[39m \u001b[39mself\u001b[39;49m\u001b[39m.\u001b[39;49m_create_infometrics(fiat_results_df)\n\u001b[0;32m    263\u001b[0m \u001b[39m# Create the infographic files\u001b[39;00m\n\u001b[0;32m    264\u001b[0m \u001b[39mself\u001b[39m\u001b[39m.\u001b[39m_create_infographics(\u001b[39mself\u001b[39m\u001b[39m.\u001b[39mhazard\u001b[39m.\u001b[39mevent_mode, metrics_path)\n",
      "File \u001b[1;32mC:\\Repositories\\FloodAdapt\\flood_adapt\\object_model\\direct_impacts.py:467\u001b[0m, in \u001b[0;36mDirectImpacts._create_infometrics\u001b[1;34m(self, fiat_results_df)\u001b[0m\n\u001b[0;32m    459\u001b[0m metrics_writer \u001b[39m=\u001b[39m MetricsFileWriter(metrics_config_path)\n\u001b[0;32m    461\u001b[0m metrics_writer\u001b[39m.\u001b[39mparse_metrics_to_file(\n\u001b[0;32m    462\u001b[0m     df_results\u001b[39m=\u001b[39mfiat_results_df,\n\u001b[0;32m    463\u001b[0m     metrics_path\u001b[39m=\u001b[39mmetrics_outputs_path,\n\u001b[0;32m    464\u001b[0m     write_aggregate\u001b[39m=\u001b[39m\u001b[39mNone\u001b[39;00m,\n\u001b[0;32m    465\u001b[0m )\n\u001b[1;32m--> 467\u001b[0m metrics_writer\u001b[39m.\u001b[39;49mparse_metrics_to_file(\n\u001b[0;32m    468\u001b[0m     df_results\u001b[39m=\u001b[39;49mfiat_results_df,\n\u001b[0;32m    469\u001b[0m     metrics_path\u001b[39m=\u001b[39;49mmetrics_outputs_path,\n\u001b[0;32m    470\u001b[0m     write_aggregate\u001b[39m=\u001b[39;49m\u001b[39m\"\u001b[39;49m\u001b[39mall\u001b[39;49m\u001b[39m\"\u001b[39;49m,\n\u001b[0;32m    471\u001b[0m )\n\u001b[0;32m    473\u001b[0m \u001b[39mreturn\u001b[39;00m metrics_outputs_path\n",
      "File \u001b[1;32mc:\\Users\\tromp_wm\\AppData\\Local\\mambaforge\\envs\\flood_adapt\\lib\\site-packages\\fiat_toolbox\\metrics_writer\\fiat_write_metrics_file.py:495\u001b[0m, in \u001b[0;36mMetricsFileWriter.parse_metrics_to_file\u001b[1;34m(self, df_results, metrics_path, write_aggregate, overwrite)\u001b[0m\n\u001b[0;32m    492\u001b[0m include_aggregates \u001b[39m=\u001b[39m \u001b[39mTrue\u001b[39;00m \u001b[39mif\u001b[39;00m write_aggregate \u001b[39melse\u001b[39;00m \u001b[39mFalse\u001b[39;00m\n\u001b[0;32m    494\u001b[0m \u001b[39m# Read the metrics config file\u001b[39;00m\n\u001b[1;32m--> 495\u001b[0m config \u001b[39m=\u001b[39m \u001b[39mself\u001b[39;49m\u001b[39m.\u001b[39;49m_read_metrics_file(include_aggregates)\n\u001b[0;32m    497\u001b[0m \u001b[39m# Parse the metrics\u001b[39;00m\n\u001b[0;32m    498\u001b[0m metrics \u001b[39m=\u001b[39m \u001b[39mself\u001b[39m\u001b[39m.\u001b[39m_parse_metrics(df_results, include_aggregates)\n",
      "File \u001b[1;32mc:\\Users\\tromp_wm\\AppData\\Local\\mambaforge\\envs\\flood_adapt\\lib\\site-packages\\fiat_toolbox\\metrics_writer\\fiat_write_metrics_file.py:82\u001b[0m, in \u001b[0;36mMetricsFileWriter._read_metrics_file\u001b[1;34m(self, include_aggregates)\u001b[0m\n\u001b[0;32m     79\u001b[0m \u001b[39mif\u001b[39;00m include_aggregates:\n\u001b[0;32m     80\u001b[0m     \u001b[39m# Check whether the metrics file contains aggregation labels\u001b[39;00m\n\u001b[0;32m     81\u001b[0m     \u001b[39mif\u001b[39;00m \u001b[39m\"\u001b[39m\u001b[39maggregateBy\u001b[39m\u001b[39m\"\u001b[39m \u001b[39mnot\u001b[39;00m \u001b[39min\u001b[39;00m metrics \u001b[39mor\u001b[39;00m \u001b[39mlen\u001b[39m(metrics[\u001b[39m\"\u001b[39m\u001b[39maggregateBy\u001b[39m\u001b[39m\"\u001b[39m]) \u001b[39m==\u001b[39m \u001b[39m0\u001b[39m:\n\u001b[1;32m---> 82\u001b[0m         \u001b[39mraise\u001b[39;00m \u001b[39mValueError\u001b[39;00m(\n\u001b[0;32m     83\u001b[0m             \u001b[39m\"\u001b[39m\u001b[39mNo aggregation labels specified in the metrics file, but include_aggregates is set to True.\u001b[39m\u001b[39m\"\u001b[39m\n\u001b[0;32m     84\u001b[0m         )\n\u001b[0;32m     85\u001b[0m     \u001b[39m# Loop over the aggregation labels\u001b[39;00m\n\u001b[0;32m     86\u001b[0m     \u001b[39mfor\u001b[39;00m aggregate \u001b[39min\u001b[39;00m metrics[\u001b[39m\"\u001b[39m\u001b[39maggregateBy\u001b[39m\u001b[39m\"\u001b[39m]:\n",
      "\u001b[1;31mValueError\u001b[0m: No aggregation labels specified in the metrics file, but include_aggregates is set to True."
     ]
    }
   ],
   "source": [
    "scenario.direct_impacts.postprocess_fiat()"
   ]
  },
  {
   "cell_type": "markdown",
   "metadata": {},
   "source": []
  },
  {
   "cell_type": "code",
   "execution_count": null,
   "metadata": {},
   "outputs": [],
   "source": []
  }
 ],
 "metadata": {
  "kernelspec": {
   "display_name": "Python 3",
   "language": "python",
   "name": "python3"
  },
  "language_info": {
   "codemirror_mode": {
    "name": "ipython",
    "version": 3
   },
   "file_extension": ".py",
   "mimetype": "text/x-python",
   "name": "python",
   "nbconvert_exporter": "python",
   "pygments_lexer": "ipython3",
   "version": "3.10.12"
  },
  "orig_nbformat": 4
 },
 "nbformat": 4,
 "nbformat_minor": 2
}
