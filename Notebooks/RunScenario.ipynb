{
 "cells": [
  {
   "cell_type": "code",
   "execution_count": 1,
   "metadata": {},
   "outputs": [],
   "source": [
    "from pathlib import Path\n",
    "\n",
    "# import sys\n",
    "# sys.path.insert(0, 'c:/Repositories/FloodAdapt/')\n",
    "\n",
    "from flood_adapt.object_model.scenario import Scenario\n",
    "from flood_adapt.object_model.site import Site\n",
    "\n",
    "# from fiat.cfg import ConfigReader"
   ]
  },
  {
   "cell_type": "markdown",
   "metadata": {},
   "source": [
    "## Select the scenario and set path to .toml file"
   ]
  },
  {
   "cell_type": "code",
   "execution_count": 2,
   "metadata": {},
   "outputs": [],
   "source": [
    "model_root = Path('c:/Repositories/DT-flood/FloodAdapt_database/Humber/')\n",
    "\n",
    "scenario_name = 'empty_event_current_no_measures'\n",
    "scenario_fn = model_root / 'input' / 'scenarios' / scenario_name / f\"{scenario_name}.toml\""
   ]
  },
  {
   "cell_type": "markdown",
   "metadata": {},
   "source": [
    "## Read in site.toml\n",
    "Not strictly necessary, might be helpful as a summary of the settings used when running"
   ]
  },
  {
   "cell_type": "code",
   "execution_count": 3,
   "metadata": {},
   "outputs": [],
   "source": [
    "site_fn = model_root / 'static' / 'site' / 'site.toml'\n",
    "site_obj = Site.load_file(site_fn)"
   ]
  },
  {
   "cell_type": "code",
   "execution_count": 4,
   "metadata": {},
   "outputs": [
    {
     "data": {
      "text/plain": [
       "{'name': 'Humber',\n",
       " 'description': 'Humber Delta, UK',\n",
       " 'lat': 53.66,\n",
       " 'lon': -0.47,\n",
       " 'sfincs': {'csname': 'WGS 84 / UTM zone 30N',\n",
       "  'cstype': <Cstype.projected: 'projected'>,\n",
       "  'version': 'SFINCS_v2.0.1_tag_exe',\n",
       "  'offshore_model': '',\n",
       "  'overland_model': 'overland',\n",
       "  'ambient_air_pressure': 10200532.0,\n",
       "  'floodmap_units': <UnitTypesLength.meters: 'meters'>,\n",
       "  'save_simulation': False},\n",
       " 'water_level': {'reference': {'name': 'MSL',\n",
       "   'height': {'value': 0.0, 'units': <UnitTypesLength.meters: 'meters'>}},\n",
       "  'localdatum': {'name': 'EGM2008',\n",
       "   'height': {'value': 0.0, 'units': <UnitTypesLength.meters: 'meters'>}},\n",
       "  'msl': {'name': 'MSL',\n",
       "   'height': {'value': 0.0, 'units': <UnitTypesLength.meters: 'meters'>}},\n",
       "  'other': None},\n",
       " 'cyclone_track_database': {'file': ''},\n",
       " 'slr': {'vertical_offset': {'value': 0.2,\n",
       "   'units': <UnitTypesLength.meters: 'meters'>},\n",
       "  'relative_to_year': 2020},\n",
       " 'gui': {'tide_harmonic_amplitude': {'value': 0.0,\n",
       "   'units': <UnitTypesLength.meters: 'meters'>},\n",
       "  'default_length_units': <UnitTypesLength.meters: 'meters'>,\n",
       "  'default_distance_units': <UnitTypesLength.meters: 'meters'>,\n",
       "  'default_area_units': <UnitTypesArea.m2: 'm2'>,\n",
       "  'default_volume_units': <UnitTypesVolume.m3: 'm3'>,\n",
       "  'default_velocity_units': <UnitTypesVelocity.meters: 'm/s'>,\n",
       "  'default_direction_units': <UnitTypesDirection.degrees: 'deg N'>,\n",
       "  'default_discharge_units': <UnitTypesDischarge.cms: 'm3/s'>,\n",
       "  'default_intensity_units': <UnitTypesIntensity.mm: 'mm/hr'>,\n",
       "  'default_cumulative_units': <UnitTypesLength.meters: 'meters'>,\n",
       "  'mapbox_layers': {'flood_map_depth_min': 0.0,\n",
       "   'flood_map_zbmax': 0.0,\n",
       "   'flood_map_bins': [],\n",
       "   'flood_map_colors': [],\n",
       "   'aggregation_dmg_bins': [],\n",
       "   'aggregation_dmg_colors': [],\n",
       "   'footprints_dmg_bins': [],\n",
       "   'footprints_dmg_colors': [],\n",
       "   'svi_bins': None,\n",
       "   'svi_colors': None,\n",
       "   'benefits_bins': [],\n",
       "   'benefits_colors': [],\n",
       "   'damage_decimals': 0}},\n",
       " 'risk': {'flooding_threshold': {'value': 0.15,\n",
       "   'units': <UnitTypesLength.meters: 'meters'>},\n",
       "  'return_periods': [1, 2, 5, 10, 25, 50, 100]},\n",
       " 'dem': {'filename': 'Humber_subgrid.tif',\n",
       "  'units': <UnitTypesLength.meters: 'meters'>},\n",
       " 'fiat': {'exposure_crs': 'EPSG:4326',\n",
       "  'bfe': {'geom': '', 'table': None, 'field_name': ''},\n",
       "  'aggregation': [{'name': 'gadm_level3',\n",
       "    'file': '../templates/fiat/aggregation_areas/gadm41_GBR_3.shp',\n",
       "    'field_name': 'ADM_ADM_3',\n",
       "    'equity': None}],\n",
       "  'floodmap_type': <Floodmap_type.water_level: 'water_level'>,\n",
       "  'non_building_names': None,\n",
       "  'damage_unit': '$',\n",
       "  'building_footprints': None,\n",
       "  'roads_file_name': None,\n",
       "  'new_development_file_name': None,\n",
       "  'save_simulation': False,\n",
       "  'svi': None},\n",
       " 'river': [],\n",
       " 'obs_station': None,\n",
       " 'obs_point': [{'name': 'obs0',\n",
       "   'description': '',\n",
       "   'ID': None,\n",
       "   'lat': 53.6398928968165,\n",
       "   'lon': 0.04181184667596493},\n",
       "  {'name': 'obs1',\n",
       "   'description': '',\n",
       "   'ID': None,\n",
       "   'lat': 53.58494445893528,\n",
       "   'lon': -0.06705842738593865},\n",
       "  {'name': 'obs2',\n",
       "   'description': '',\n",
       "   'ID': None,\n",
       "   'lat': 53.48139362260944,\n",
       "   'lon': 0.14807343012905858},\n",
       "  {'name': 'obs3',\n",
       "   'description': '',\n",
       "   'ID': None,\n",
       "   'lat': 53.74300331971528,\n",
       "   'lon': -0.31211718549814016},\n",
       "  {'name': 'obs4',\n",
       "   'description': '',\n",
       "   'ID': None,\n",
       "   'lat': 53.695193914880726,\n",
       "   'lon': -0.7098554875491028}],\n",
       " 'benefits': {'current_year': 2023,\n",
       "  'current_projection': 'current',\n",
       "  'baseline_strategy': 'no_measures',\n",
       "  'event_set': 'test_set'},\n",
       " 'scs': None,\n",
       " 'standard_objects': {'events': [], 'projections': [], 'strategies': []}}"
      ]
     },
     "execution_count": 4,
     "metadata": {},
     "output_type": "execute_result"
    }
   ],
   "source": [
    "site_obj.attrs.dict()"
   ]
  },
  {
   "cell_type": "markdown",
   "metadata": {},
   "source": [
    "## Load in scenario"
   ]
  },
  {
   "cell_type": "code",
   "execution_count": 5,
   "metadata": {},
   "outputs": [],
   "source": [
    "scenario = Scenario.load_file(scenario_fn)"
   ]
  },
  {
   "cell_type": "code",
   "execution_count": null,
   "metadata": {},
   "outputs": [],
   "source": [
    "site_obj.attrs.obs_point"
   ]
  },
  {
   "cell_type": "markdown",
   "metadata": {},
   "source": [
    "## Run scenario\n",
    "\n",
    "Running a scenario will throw an error in the postprocessing phase due to missing inputs for creating infometrics. The SFINCS and FIAT models will have run correctly though and have their outputs saved.\n",
    "*For later: split this up into separate calls of init_, preprocess, run, and postprocess model methods*"
   ]
  },
  {
   "cell_type": "code",
   "execution_count": 6,
   "metadata": {},
   "outputs": [
    {
     "name": "stderr",
     "output_type": "stream",
     "text": [
      "2024-01-30 03:29:08 PM - flood_adapt.integrator.sfincs_adapter - WARNING - Model dir already exists and files might be overwritten: c:\\Repositories\\DT-flood\\FloodAdapt_database\\Humber\\static\\templates\\overland\\gis.\n",
      "2024-01-30 03:29:08 PM - flood_adapt.integrator.sfincs_adapter - WARNING - depfile not found at c:\\Repositories\\DT-flood\\FloodAdapt_database\\Humber\\static\\templates\\overland\\sfincs.dep\n",
      "2024-01-30 03:29:10 PM - flood_adapt.integrator.sfincs_adapter - WARNING - Index in bndfile does not match c:\\Repositories\\DT-flood\\FloodAdapt_database\\Humber\\static\\templates\\overland\\gis\\bnd.geojson\n",
      "2024-01-30 03:29:10 PM - flood_adapt.integrator.sfincs_adapter - WARNING - Index in bndfile does not match c:\\Repositories\\DT-flood\\FloodAdapt_database\\Humber\\static\\templates\\overland\\gis\\bnd.geojson\n",
      "2024-01-30 03:29:10 PM - flood_adapt.integrator.sfincs_adapter - WARNING - Replacing forcing: bzs\n",
      "2024-01-30 03:29:11 PM - flood_adapt.integrator.sfincs_adapter - WARNING - Replacing geom: obs\n",
      "2024-01-30 03:29:11 PM - flood_adapt.integrator.sfincs_adapter - WARNING - zsini not in states, skipping\n",
      "2024-01-30 03:30:16 PM - flood_adapt.integrator.sfincs_adapter - WARNING - Model dir already exists and files might be overwritten: c:\\Repositories\\DT-flood\\FloodAdapt_database\\Humber\\output\\Scenarios\\Empty_Event_current_no_measures\\Flooding\\simulations\\overland\\gis.\n",
      "2024-01-30 03:30:16 PM - flood_adapt.integrator.sfincs_adapter - WARNING - depfile not found at c:\\Repositories\\DT-flood\\FloodAdapt_database\\Humber\\output\\Scenarios\\Empty_Event_current_no_measures\\Flooding\\simulations\\overland\\sfincs.dep\n",
      "2024-01-30 03:30:17 PM - rasterio._env - WARNING - CPLE_NotSupported in 'COG' is an unexpected value for PROFILE creation option of type string-select.\n",
      "2024-01-30 03:30:17 PM - rasterio._env - WARNING - CPLE_NotSupported in Unsupported value for PROFILE: COG\n",
      "2024-01-30 03:30:17 PM - rasterio._env - WARNING - CPLE_NotSupported in Unsupported value for PROFILE: COG\n",
      "2024-01-30 03:30:18 PM - flood_adapt.integrator.sfincs_adapter - WARNING - Model dir already exists and files might be overwritten: c:\\Repositories\\DT-flood\\FloodAdapt_database\\Humber\\output\\Scenarios\\Empty_Event_current_no_measures\\Flooding\\simulations\\overland\\gis.\n",
      "2024-01-30 03:30:18 PM - flood_adapt.integrator.sfincs_adapter - WARNING - depfile not found at c:\\Repositories\\DT-flood\\FloodAdapt_database\\Humber\\output\\Scenarios\\Empty_Event_current_no_measures\\Flooding\\simulations\\overland\\sfincs.dep\n"
     ]
    },
    {
     "name": "stdout",
     "output_type": "stream",
     "text": [
      "2024-01-30 15:30:21,378 - hydromt_fiat - log - INFO - HydroMT version: 0.8.0\n",
      "2024-01-30 15:30:21,383 - hydromt_fiat - log - DEBUG - Appending log messages to file c:\\Repositories\\DT-flood\\FloodAdapt_database\\Humber\\static\\templates\\fiat\\hydromt.log.\n",
      "2024-01-30 15:30:21,387 - hydromt_fiat - model_api - INFO - Initializing fiat model from hydromt_fiat (v0.2.1.dev0).\n",
      "2024-01-30 15:30:21,391 - hydromt_fiat - fiat - INFO - Reading model data from c:\\Repositories\\DT-flood\\FloodAdapt_database\\Humber\\static\\templates\\fiat\n",
      "2024-01-30 15:30:21,399 - hydromt_fiat - model_api - DEBUG - User defined config read from c:\\Repositories\\DT-flood\\FloodAdapt_database\\Humber\\static\\templates\\fiat\\settings.toml\n",
      "2024-01-30 15:30:21,401 - hydromt_fiat - fiat - INFO - Reading model table files.\n",
      "2024-01-30 15:30:21,406 - hydromt_fiat - fiat - DEBUG - Reading vulnerability table c:\\Repositories\\DT-flood\\FloodAdapt_database\\Humber\\static\\templates\\fiat\\vulnerability\\vulnerability_curves.csv\n",
      "2024-01-30 15:30:21,449 - hydromt_fiat - fiat - DEBUG - Reading exposure table c:\\Repositories\\DT-flood\\FloodAdapt_database\\Humber\\static\\templates\\fiat\\exposure\\exposure.csv\n",
      "2024-01-30 15:30:21,978 - hydromt_fiat - fiat - INFO - Reading exposure geometries.\n",
      "2024-01-30 15:30:21,981 - hydromt_fiat - exposure_vector - INFO - Setting geometry name to buildings...\n",
      "2024-01-30 15:30:23,375 - hydromt_fiat - exposure_vector - INFO - Setting exposure geometries...\n"
     ]
    },
    {
     "name": "stderr",
     "output_type": "stream",
     "text": [
      "2024-01-30 03:30:23 PM - flood_adapt.integrator.sfincs_adapter - WARNING - Model dir already exists and files might be overwritten: c:\\Repositories\\DT-flood\\FloodAdapt_database\\Humber\\output\\Scenarios\\Empty_Event_current_no_measures\\Flooding\\simulations\\overland\\gis.\n",
      "2024-01-30 03:30:23 PM - flood_adapt.integrator.sfincs_adapter - WARNING - depfile not found at c:\\Repositories\\DT-flood\\FloodAdapt_database\\Humber\\output\\Scenarios\\Empty_Event_current_no_measures\\Flooding\\simulations\\overland\\sfincs.dep\n"
     ]
    },
    {
     "name": "stdout",
     "output_type": "stream",
     "text": [
      "2024-01-30 15:30:23,947 - hydromt_fiat - fiat - INFO - Added flooding hazard map: hazard_map \n",
      "2024-01-30 15:30:23,963 - hydromt_fiat - log - DEBUG - Writing log messages to new file c:\\Repositories\\DT-flood\\FloodAdapt_database\\Humber\\output\\Scenarios\\Empty_Event_current_no_measures\\Impacts\\fiat_model\\hydromt.log.\n",
      "2024-01-30 15:30:23,965 - hydromt_fiat - fiat - INFO - Updating all data objects...\n",
      "2024-01-30 15:30:23,974 - hydromt_fiat - fiat - INFO - Writing model data to c:\\Repositories\\DT-flood\\FloodAdapt_database\\Humber\\output\\Scenarios\\Empty_Event_current_no_measures\\Impacts\\fiat_model\n",
      "2024-01-30 15:30:23,977 - hydromt_fiat - model_api - INFO - Writing model config to c:\\Repositories\\DT-flood\\FloodAdapt_database\\Humber\\output\\Scenarios\\Empty_Event_current_no_measures\\Impacts\\fiat_model\\settings.toml\n",
      "2024-01-30 15:30:23,981 - hydromt_fiat - model_api - DEBUG - Writing file hazard/hazard_map.nc\n",
      "2024-01-30 15:30:24,008 - hydromt_fiat - model_api - DEBUG - Writing file exposure/buildings.gpkg\n",
      "2024-01-30 15:30:44,415 - hydromt_fiat - fiat - INFO - Writing model exposure table file to exposure/exposure.csv.\n",
      "2024-01-30 15:30:45,277 - hydromt_fiat - fiat - INFO - Writing model vulnerability_curves table file to vulnerability/vulnerability_curves.csv.\n",
      "FIAT preprocessing took 23.95 seconds\n",
      "Running FIAT took 36.42 seconds\n"
     ]
    },
    {
     "ename": "BinderException",
     "evalue": "Binder Error: No function matches the given name and argument types 'sum()'. You might need to add explicit type casts.\n\tCandidate functions:\n\tsum(DECIMAL) -> DECIMAL\n\tsum(SMALLINT) -> HUGEINT\n\tsum(INTEGER) -> HUGEINT\n\tsum(BIGINT) -> HUGEINT\n\tsum(HUGEINT) -> HUGEINT\n\tsum(DOUBLE) -> DOUBLE\n",
     "output_type": "error",
     "traceback": [
      "\u001b[1;31m---------------------------------------------------------------------------\u001b[0m",
      "\u001b[1;31mBinderException\u001b[0m                           Traceback (most recent call last)",
      "Cell \u001b[1;32mIn[6], line 1\u001b[0m\n\u001b[1;32m----> 1\u001b[0m \u001b[43mscenario\u001b[49m\u001b[38;5;241;43m.\u001b[39;49m\u001b[43mrun\u001b[49m\u001b[43m(\u001b[49m\u001b[43m)\u001b[49m\n",
      "File \u001b[1;32mc:\\Users\\tromp_wm\\AppData\\Local\\mambaforge\\envs\\DT-flood\\lib\\site-packages\\flood_adapt\\object_model\\scenario.py:92\u001b[0m, in \u001b[0;36mScenario.run\u001b[1;34m(self)\u001b[0m\n\u001b[0;32m     90\u001b[0m     \u001b[38;5;28mself\u001b[39m\u001b[38;5;241m.\u001b[39mdirect_impacts\u001b[38;5;241m.\u001b[39mpreprocess_models()  \u001b[38;5;66;03m# TODO: separate preprocessing and running of impact models\u001b[39;00m\n\u001b[0;32m     91\u001b[0m     \u001b[38;5;28mself\u001b[39m\u001b[38;5;241m.\u001b[39mdirect_impacts\u001b[38;5;241m.\u001b[39mrun_models()\n\u001b[1;32m---> 92\u001b[0m     \u001b[38;5;28;43mself\u001b[39;49m\u001b[38;5;241;43m.\u001b[39;49m\u001b[43mdirect_impacts\u001b[49m\u001b[38;5;241;43m.\u001b[39;49m\u001b[43mpostprocess_models\u001b[49m\u001b[43m(\u001b[49m\u001b[43m)\u001b[49m\n\u001b[0;32m     93\u001b[0m \u001b[38;5;28;01melse\u001b[39;00m:\n\u001b[0;32m     94\u001b[0m     \u001b[38;5;28mprint\u001b[39m(\n\u001b[0;32m     95\u001b[0m         \u001b[38;5;124mf\u001b[39m\u001b[38;5;124m\"\u001b[39m\u001b[38;5;124mDirect impacts for scenario \u001b[39m\u001b[38;5;124m'\u001b[39m\u001b[38;5;132;01m{\u001b[39;00m\u001b[38;5;28mself\u001b[39m\u001b[38;5;241m.\u001b[39mattrs\u001b[38;5;241m.\u001b[39mname\u001b[38;5;132;01m}\u001b[39;00m\u001b[38;5;124m'\u001b[39m\u001b[38;5;124m has already been run.\u001b[39m\u001b[38;5;124m\"\u001b[39m\n\u001b[0;32m     96\u001b[0m     )\n",
      "File \u001b[1;32mc:\\Users\\tromp_wm\\AppData\\Local\\mambaforge\\envs\\DT-flood\\lib\\site-packages\\flood_adapt\\object_model\\direct_impacts.py:147\u001b[0m, in \u001b[0;36mDirectImpacts.postprocess_models\u001b[1;34m(self)\u001b[0m\n\u001b[0;32m    145\u001b[0m logging\u001b[38;5;241m.\u001b[39minfo(\u001b[38;5;124m\"\u001b[39m\u001b[38;5;124mPost-processing impact models...\u001b[39m\u001b[38;5;124m\"\u001b[39m)\n\u001b[0;32m    146\u001b[0m \u001b[38;5;66;03m# Preprocess all impact model input\u001b[39;00m\n\u001b[1;32m--> 147\u001b[0m \u001b[38;5;28;43mself\u001b[39;49m\u001b[38;5;241;43m.\u001b[39;49m\u001b[43mpostprocess_fiat\u001b[49m\u001b[43m(\u001b[49m\u001b[43m)\u001b[49m\n",
      "File \u001b[1;32mc:\\Users\\tromp_wm\\AppData\\Local\\mambaforge\\envs\\DT-flood\\lib\\site-packages\\flood_adapt\\object_model\\direct_impacts.py:292\u001b[0m, in \u001b[0;36mDirectImpacts.postprocess_fiat\u001b[1;34m(self)\u001b[0m\n\u001b[0;32m    289\u001b[0m fiat_results_df \u001b[38;5;241m=\u001b[39m pd\u001b[38;5;241m.\u001b[39mread_csv(fiat_results_path)\n\u001b[0;32m    291\u001b[0m \u001b[38;5;66;03m# Create the infometrics files\u001b[39;00m\n\u001b[1;32m--> 292\u001b[0m metrics_path \u001b[38;5;241m=\u001b[39m \u001b[38;5;28;43mself\u001b[39;49m\u001b[38;5;241;43m.\u001b[39;49m\u001b[43m_create_infometrics\u001b[49m\u001b[43m(\u001b[49m\u001b[43mfiat_results_df\u001b[49m\u001b[43m)\u001b[49m\n\u001b[0;32m    294\u001b[0m \u001b[38;5;66;03m# Create the infographic files\u001b[39;00m\n\u001b[0;32m    295\u001b[0m \u001b[38;5;28mself\u001b[39m\u001b[38;5;241m.\u001b[39m_create_infographics(\u001b[38;5;28mself\u001b[39m\u001b[38;5;241m.\u001b[39mhazard\u001b[38;5;241m.\u001b[39mevent_mode, metrics_path)\n",
      "File \u001b[1;32mc:\\Users\\tromp_wm\\AppData\\Local\\mambaforge\\envs\\DT-flood\\lib\\site-packages\\flood_adapt\\object_model\\direct_impacts.py:532\u001b[0m, in \u001b[0;36mDirectImpacts._create_infometrics\u001b[1;34m(self, fiat_results_df)\u001b[0m\n\u001b[0;32m    529\u001b[0m \u001b[38;5;66;03m# Write the metrics to file\u001b[39;00m\n\u001b[0;32m    530\u001b[0m metrics_writer \u001b[38;5;241m=\u001b[39m MetricsFileWriter(metrics_config_path)\n\u001b[1;32m--> 532\u001b[0m \u001b[43mmetrics_writer\u001b[49m\u001b[38;5;241;43m.\u001b[39;49m\u001b[43mparse_metrics_to_file\u001b[49m\u001b[43m(\u001b[49m\n\u001b[0;32m    533\u001b[0m \u001b[43m    \u001b[49m\u001b[43mdf_results\u001b[49m\u001b[38;5;241;43m=\u001b[39;49m\u001b[43mfiat_results_df\u001b[49m\u001b[43m,\u001b[49m\n\u001b[0;32m    534\u001b[0m \u001b[43m    \u001b[49m\u001b[43mmetrics_path\u001b[49m\u001b[38;5;241;43m=\u001b[39;49m\u001b[43mmetrics_outputs_path\u001b[49m\u001b[43m,\u001b[49m\n\u001b[0;32m    535\u001b[0m \u001b[43m    \u001b[49m\u001b[43mwrite_aggregate\u001b[49m\u001b[38;5;241;43m=\u001b[39;49m\u001b[38;5;28;43;01mNone\u001b[39;49;00m\u001b[43m,\u001b[49m\n\u001b[0;32m    536\u001b[0m \u001b[43m\u001b[49m\u001b[43m)\u001b[49m\n\u001b[0;32m    538\u001b[0m metrics_writer\u001b[38;5;241m.\u001b[39mparse_metrics_to_file(\n\u001b[0;32m    539\u001b[0m     df_results\u001b[38;5;241m=\u001b[39mfiat_results_df,\n\u001b[0;32m    540\u001b[0m     metrics_path\u001b[38;5;241m=\u001b[39mmetrics_outputs_path,\n\u001b[0;32m    541\u001b[0m     write_aggregate\u001b[38;5;241m=\u001b[39m\u001b[38;5;124m\"\u001b[39m\u001b[38;5;124mall\u001b[39m\u001b[38;5;124m\"\u001b[39m,\n\u001b[0;32m    542\u001b[0m )\n\u001b[0;32m    544\u001b[0m \u001b[38;5;28;01mreturn\u001b[39;00m metrics_outputs_path\n",
      "File \u001b[1;32mc:\\Users\\tromp_wm\\AppData\\Local\\mambaforge\\envs\\DT-flood\\lib\\site-packages\\fiat_toolbox\\metrics_writer\\fiat_write_metrics_file.py:496\u001b[0m, in \u001b[0;36mMetricsFileWriter.parse_metrics_to_file\u001b[1;34m(self, df_results, metrics_path, write_aggregate, overwrite)\u001b[0m\n\u001b[0;32m    493\u001b[0m config \u001b[38;5;241m=\u001b[39m \u001b[38;5;28mself\u001b[39m\u001b[38;5;241m.\u001b[39m_read_metrics_file(include_aggregates)\n\u001b[0;32m    495\u001b[0m \u001b[38;5;66;03m# Parse the metrics\u001b[39;00m\n\u001b[1;32m--> 496\u001b[0m metrics \u001b[38;5;241m=\u001b[39m \u001b[38;5;28;43mself\u001b[39;49m\u001b[38;5;241;43m.\u001b[39;49m\u001b[43m_parse_metrics\u001b[49m\u001b[43m(\u001b[49m\u001b[43mdf_results\u001b[49m\u001b[43m,\u001b[49m\u001b[43m \u001b[49m\u001b[43minclude_aggregates\u001b[49m\u001b[43m)\u001b[49m\n\u001b[0;32m    498\u001b[0m \u001b[38;5;66;03m# Write the metrics to a file\u001b[39;00m\n\u001b[0;32m    499\u001b[0m \u001b[38;5;28;01mif\u001b[39;00m write_aggregate \u001b[38;5;241m==\u001b[39m \u001b[38;5;124m\"\u001b[39m\u001b[38;5;124mall\u001b[39m\u001b[38;5;124m\"\u001b[39m:\n\u001b[0;32m    500\u001b[0m     \u001b[38;5;66;03m# Initialize the return dictionary\u001b[39;00m\n",
      "File \u001b[1;32mc:\\Users\\tromp_wm\\AppData\\Local\\mambaforge\\envs\\DT-flood\\lib\\site-packages\\fiat_toolbox\\metrics_writer\\fiat_write_metrics_file.py:307\u001b[0m, in \u001b[0;36mMetricsFileWriter._parse_metrics\u001b[1;34m(self, df_results, include_aggregates)\u001b[0m\n\u001b[0;32m    304\u001b[0m     \u001b[38;5;28;01mreturn\u001b[39;00m metrics\n\u001b[0;32m    305\u001b[0m \u001b[38;5;28;01melse\u001b[39;00m:\n\u001b[0;32m    306\u001b[0m     \u001b[38;5;66;03m# Create the metrics dictionary (the _create_metrics_dict is a static method, so no need to instantiate the class)\u001b[39;00m\n\u001b[1;32m--> 307\u001b[0m     \u001b[38;5;28;01mreturn\u001b[39;00m \u001b[43mMetricsFileWriter\u001b[49m\u001b[38;5;241;43m.\u001b[39;49m\u001b[43m_create_metrics_dict\u001b[49m\u001b[43m(\u001b[49m\u001b[43mdf_results\u001b[49m\u001b[43m,\u001b[49m\u001b[43m \u001b[49m\u001b[43msql_commands\u001b[49m\u001b[43m)\u001b[49m\n",
      "File \u001b[1;32mc:\\Users\\tromp_wm\\AppData\\Local\\mambaforge\\envs\\DT-flood\\lib\\site-packages\\fiat_toolbox\\metrics_writer\\fiat_write_metrics_file.py:265\u001b[0m, in \u001b[0;36mMetricsFileWriter._create_metrics_dict\u001b[1;34m(df_results, sql_commands)\u001b[0m\n\u001b[0;32m    262\u001b[0m \u001b[38;5;66;03m# Run the sql commands one by one\u001b[39;00m\n\u001b[0;32m    263\u001b[0m \u001b[38;5;28;01mfor\u001b[39;00m name, command \u001b[38;5;129;01min\u001b[39;00m sql_commands\u001b[38;5;241m.\u001b[39mitems():\n\u001b[0;32m    264\u001b[0m     \u001b[38;5;66;03m# Create the metric (_create_single_metric is a static method, so no need to instantiate the class)\u001b[39;00m\n\u001b[1;32m--> 265\u001b[0m     _, value \u001b[38;5;241m=\u001b[39m \u001b[43mMetricsFileWriter\u001b[49m\u001b[38;5;241;43m.\u001b[39;49m\u001b[43m_create_single_metric\u001b[49m\u001b[43m(\u001b[49m\u001b[43mdf_results\u001b[49m\u001b[43m,\u001b[49m\u001b[43m \u001b[49m\u001b[43mcommand\u001b[49m\u001b[43m)\u001b[49m\n\u001b[0;32m    267\u001b[0m     \u001b[38;5;66;03m# Store the metric in the metrics dictionary using the metric name as key\u001b[39;00m\n\u001b[0;32m    268\u001b[0m     df_metrics[name] \u001b[38;5;241m=\u001b[39m value\n",
      "File \u001b[1;32mc:\\Users\\tromp_wm\\AppData\\Local\\mambaforge\\envs\\DT-flood\\lib\\site-packages\\fiat_toolbox\\metrics_writer\\fiat_write_metrics_file.py:226\u001b[0m, in \u001b[0;36mMetricsFileWriter._create_single_metric\u001b[1;34m(df_results, sql_command)\u001b[0m\n\u001b[0;32m    224\u001b[0m \u001b[38;5;66;03m# Execute the query. If the query is invalid, an error PandaSQLException will be raised\u001b[39;00m\n\u001b[0;32m    225\u001b[0m sql_query \u001b[38;5;241m=\u001b[39m sql_query\u001b[38;5;241m.\u001b[39mreplace(\u001b[38;5;124m\"\u001b[39m\u001b[38;5;124m`\u001b[39m\u001b[38;5;124m\"\u001b[39m, \u001b[38;5;124m'\u001b[39m\u001b[38;5;124m\"\u001b[39m\u001b[38;5;124m'\u001b[39m)\n\u001b[1;32m--> 226\u001b[0m result \u001b[38;5;241m=\u001b[39m \u001b[43mduckdb\u001b[49m\u001b[38;5;241;43m.\u001b[39;49m\u001b[43mquery\u001b[49m\u001b[43m(\u001b[49m\u001b[43msql_query\u001b[49m\u001b[43m)\u001b[49m\u001b[38;5;241m.\u001b[39mdf()\n\u001b[0;32m    228\u001b[0m \u001b[38;5;66;03m# If the command contains a groupby statement, return a dictionary with the groupby variables as keys and the metric as value\u001b[39;00m\n\u001b[0;32m    229\u001b[0m \u001b[38;5;28;01mif\u001b[39;00m sql_command\u001b[38;5;241m.\u001b[39mgroupby:\n\u001b[0;32m    230\u001b[0m     \u001b[38;5;66;03m# Set the groupby variables as index\u001b[39;00m\n",
      "\u001b[1;31mBinderException\u001b[0m: Binder Error: No function matches the given name and argument types 'sum()'. You might need to add explicit type casts.\n\tCandidate functions:\n\tsum(DECIMAL) -> DECIMAL\n\tsum(SMALLINT) -> HUGEINT\n\tsum(INTEGER) -> HUGEINT\n\tsum(BIGINT) -> HUGEINT\n\tsum(HUGEINT) -> HUGEINT\n\tsum(DOUBLE) -> DOUBLE\n"
     ]
    }
   ],
   "source": [
    "scenario.run()"
   ]
  },
  {
   "cell_type": "code",
   "execution_count": null,
   "metadata": {},
   "outputs": [],
   "source": [
    "scenario.direct_impacts.postprocess_fiat()"
   ]
  },
  {
   "cell_type": "markdown",
   "metadata": {},
   "source": []
  },
  {
   "cell_type": "code",
   "execution_count": null,
   "metadata": {},
   "outputs": [],
   "source": [
    "fiat_root = model_root / 'output' / 'Scenarios' / 'Empty_Event_current_no_measures' / 'Impacts' / 'fiat_model'"
   ]
  },
  {
   "cell_type": "code",
   "execution_count": null,
   "metadata": {},
   "outputs": [],
   "source": [
    "cfg = ConfigReader((fiat_root / 'settings.toml'))"
   ]
  },
  {
   "cell_type": "code",
   "execution_count": null,
   "metadata": {},
   "outputs": [],
   "source": [
    "cfg.get(\"exposure.csv.file\").name"
   ]
  },
  {
   "cell_type": "code",
   "execution_count": null,
   "metadata": {},
   "outputs": [],
   "source": []
  }
 ],
 "metadata": {
  "kernelspec": {
   "display_name": "Python 3",
   "language": "python",
   "name": "python3"
  },
  "language_info": {
   "codemirror_mode": {
    "name": "ipython",
    "version": 3
   },
   "file_extension": ".py",
   "mimetype": "text/x-python",
   "name": "python",
   "nbconvert_exporter": "python",
   "pygments_lexer": "ipython3",
   "version": "3.10.13"
  },
  "orig_nbformat": 4
 },
 "nbformat": 4,
 "nbformat_minor": 2
}
