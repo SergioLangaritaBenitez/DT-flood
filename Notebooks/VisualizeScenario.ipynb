{
 "cells": [
  {
   "cell_type": "code",
   "execution_count": null,
   "metadata": {},
   "outputs": [],
   "source": [
    "import numpy as np\n",
    "from pathlib import Path\n",
    "import xarray as xr\n",
    "import matplotlib.pyplot as plt\n",
    "from matplotlib import colors\n",
    "import cartopy.crs as ccrs\n",
    "import cartopy.io.img_tiles as cimgt\n",
    "import geopandas as gdf\n",
    "\n",
    "from hydromt.data_catalog import DataCatalog\n",
    "from hydromt_sfincs import SfincsModel\n",
    "from hydromt_sfincs.utils import downscale_floodmap\n",
    "\n",
    "from flood_adapt.api import startup"
   ]
  },
  {
   "cell_type": "code",
   "execution_count": null,
   "metadata": {},
   "outputs": [],
   "source": [
    "# Path and name of FloodAdapt database\n",
    "db_path = Path(\"/mnt/c/Repositories/DT-flood/FloodAdapt_database\")\n",
    "db_name = \"Humber\"\n",
    "# Read database\n",
    "db = startup.read_database(database_path=db_path, site_name=db_name)\n",
    "\n",
    "# Name of the scenario to visualize\n",
    "scenario_name = \"Empty_Event_current_no_measures\"\n",
    "# Read scenario\n",
    "scenario = db.get_scenario(name=scenario_name)\n",
    "# Get output path\n",
    "out_path = scenario.results_path\n",
    "\n",
    "# Set some useful paths\n",
    "floodmap_fn = out_path/\"Flooding\"/f\"FloodMap_{scenario_name}.tif\"\n",
    "sf_path = out_path/\"Flooding\"/\"simulations\"/\"overland\"\n",
    "\n",
    "# Init data catalog\n",
    "data_catalogues = [Path(\"/mnt/c/Repositories/DT-flood/Data/gtsm_catalogue.yml\"), Path(\"/home/wotromp/DestinE_workflows/deltares_data_wsl.yml\")]\n",
    "dc = DataCatalog(data_libs=data_catalogues)\n",
    "\n",
    "region = gdf.read_file(db_path/db_name/\"HumberDelta_large.geojson\")"
   ]
  },
  {
   "cell_type": "code",
   "execution_count": null,
   "metadata": {},
   "outputs": [],
   "source": [
    "sf = SfincsModel(\n",
    "    root=sf_path,\n",
    "    mode='r',\n",
    "    data_libs=data_catalogues,\n",
    ")\n",
    "sf.read_results()\n",
    "dep_da = xr.open_dataset(db.static_path/\"dem\"/\"Humber_subgrid.tif\")"
   ]
  },
  {
   "cell_type": "code",
   "execution_count": null,
   "metadata": {},
   "outputs": [],
   "source": [
    "proj = ccrs.Projection(sf.crs)"
   ]
  },
  {
   "cell_type": "code",
   "execution_count": null,
   "metadata": {},
   "outputs": [],
   "source": [
    "dep_da['band_data'].plot()"
   ]
  },
  {
   "cell_type": "code",
   "execution_count": null,
   "metadata": {},
   "outputs": [],
   "source": [
    "sf.plot_basemap()"
   ]
  },
  {
   "cell_type": "code",
   "execution_count": null,
   "metadata": {},
   "outputs": [],
   "source": [
    "gswo = dc.get_rasterdataset(\"gswo\", geom=sf.region, buffer=100)"
   ]
  },
  {
   "cell_type": "code",
   "execution_count": null,
   "metadata": {},
   "outputs": [],
   "source": [
    "gswo_mask = gswo.raster.reproject_like(sf.grid, method=\"max\") <= 5"
   ]
  },
  {
   "cell_type": "code",
   "execution_count": null,
   "metadata": {},
   "outputs": [],
   "source": [
    "hmin= 0.01\n",
    "hmax = downscale_floodmap(\n",
    "    zsmax=sf.results['zsmax'].where(gswo_mask).where(sf.results['zsmax']>hmin),\n",
    "    dep=dep_da['band_data'],\n",
    ")"
   ]
  },
  {
   "cell_type": "code",
   "execution_count": null,
   "metadata": {},
   "outputs": [],
   "source": [
    "fig = plt.figure(figsize=(14,7))\n",
    "ax = fig.add_subplot(projection=proj)\n",
    "ax.add_image(cimgt.QuadtreeTiles(),10, interpolation='bilinear')\n",
    "hmax.plot(ax=ax,vmin=0, vmax=3, cmap='Blues')\n",
    "ax.set_extent(region.total_bounds[[0,2,1,3]])\n",
    "ax.xaxis.set_visible(True)\n",
    "ax.yaxis.set_visible(True)\n",
    "ax.set_title(f\"Floodmap for event {scenario_name}\")"
   ]
  },
  {
   "cell_type": "code",
   "execution_count": null,
   "metadata": {},
   "outputs": [],
   "source": [
    "sf.forcing.keys()"
   ]
  },
  {
   "cell_type": "code",
   "execution_count": null,
   "metadata": {},
   "outputs": [],
   "source": [
    "sf.forcing['press_2d'].isel(time=67).plot.contour()"
   ]
  },
  {
   "cell_type": "code",
   "execution_count": null,
   "metadata": {},
   "outputs": [],
   "source": [
    "sf.forcing['press_2d'].min().values"
   ]
  },
  {
   "cell_type": "code",
   "execution_count": null,
   "metadata": {},
   "outputs": [],
   "source": [
    "from matplotlib import animation\n",
    "\n",
    "da = sf.forcing['press_2d']\n",
    "\n",
    "step = 1\n",
    "\n",
    "vmin, vmax = da.quantile([0., 0.98]).compute()\n",
    "c_dem = plt.cm.viridis(np.linspace(0.25, 1, 512))\n",
    "cmap = colors.LinearSegmentedColormap.from_list(\"dem\", c_dem)\n",
    "norm = colors.Normalize(vmin=vmin, vmax=vmax)\n",
    "cmap_kwargs = dict(cmap=cmap, norm=norm) \n",
    "\n",
    "# def update_plot(i, da_h, cax_h):\n",
    "#     da_hi = da_h.isel(time=i)\n",
    "#     t = da_hi.time.dt.strftime(\"%d-%B-%Y %H:%M:%S\").item()\n",
    "#     ax.set_title(f\"Pressure Forcing {t}, max values: {da_hi.max().values}\")\n",
    "#     cax_h.set_array(da_hi.values.ravel())\n",
    "#     cax_h.set_clim(vmin=da_hi.min().values, vmax=da_hi.max().values)\n",
    "\n",
    "def update_plot(i, da_h):\n",
    "    global cax_h, cl\n",
    "    da_hi = da_h.isel(time=i)\n",
    "    for c in cax_h.collections:\n",
    "        c.remove()\n",
    "    for l in cl:\n",
    "        l.remove()\n",
    "    cax_h = da_hi.plot.contour(\n",
    "        x='x', y='y', ax=ax,\n",
    "        vmin=da.min().values, vmax=da.max().values, levels=100\n",
    "    )\n",
    "    # cax_h.set_clim(vmin=da_h.min().values, vmax=da_h.max().values)\n",
    "    cl = ax.clabel(cax_h)\n",
    "    return cax_h\n",
    "\n",
    "fig = plt.figure(figsize=(10,8))\n",
    "ax = fig.add_subplot(projection=proj)\n",
    "ax.add_image(cimgt.OSM(),10, interpolation='bilinear')\n",
    "\n",
    "cax_h = da.isel(time=0).plot.contourf(\n",
    "    x='x', y='y',\n",
    "    ax=ax,\n",
    "    vmin=da.min().values, vmax=da.max().values, levels=100,\n",
    "    # add_colorbar=True,\n",
    "    # cbar_kwargs=cbar_kwargs\n",
    ")\n",
    "# cbar = fig.colorbar(cax_h)\n",
    "\n",
    "for c in cax_h.collections:\n",
    "    c.remove()\n",
    "\n",
    "cax_h = da.isel(time=0).plot.contour(\n",
    "    x='x', y='y',\n",
    "    ax=ax,\n",
    "    vmin=da.min().values, vmax=da.max().values, levels=100,\n",
    "    # add_colorbar=True,\n",
    "    # cbar_kwargs=cbar_kwargs\n",
    ")\n",
    "cl = ax.clabel(cax_h)\n",
    "\n",
    "\n",
    "ani = animation.FuncAnimation(\n",
    "    fig,\n",
    "    update_plot,\n",
    "    frames=np.arange(0,da.time.size,step),\n",
    "    interval=250,\n",
    "    fargs=[da]\n",
    ")\n",
    "\n",
    "plt.close()\n",
    "\n",
    "# ani.save('test_forcing_animation.gif', fps=4, dpi=200)\n",
    "\n",
    "#show in notebook\n",
    "from IPython.display import HTML\n",
    "\n",
    "HTML(ani.to_jshtml())"
   ]
  },
  {
   "cell_type": "code",
   "execution_count": null,
   "metadata": {},
   "outputs": [],
   "source": [
    "c_dem.shape"
   ]
  },
  {
   "cell_type": "code",
   "execution_count": null,
   "metadata": {},
   "outputs": [],
   "source": []
  }
 ],
 "metadata": {
  "kernelspec": {
   "display_name": "DT-flood",
   "language": "python",
   "name": "python3"
  },
  "language_info": {
   "codemirror_mode": {
    "name": "ipython",
    "version": 3
   },
   "file_extension": ".py",
   "mimetype": "text/x-python",
   "name": "python",
   "nbconvert_exporter": "python",
   "pygments_lexer": "ipython3",
   "version": "3.11.8"
  }
 },
 "nbformat": 4,
 "nbformat_minor": 2
}
