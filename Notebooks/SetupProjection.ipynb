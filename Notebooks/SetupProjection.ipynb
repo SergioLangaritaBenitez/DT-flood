{
 "cells": [
  {
   "cell_type": "markdown",
   "metadata": {},
   "source": [
    "# Create Projection settings\n",
    "\n",
    "In this notebook we will create a .toml file containing the settings for a projection used in a FloodAdapt scenario.\n",
    "\n",
    "In this particular example we create a baseline projection with no changes."
   ]
  },
  {
   "cell_type": "code",
   "execution_count": 1,
   "metadata": {},
   "outputs": [],
   "source": [
    "from pathlib import Path\n",
    "from os import makedirs\n",
    "from pprint import pprint\n",
    "import tomli_w\n",
    "\n",
    "# import sys\n",
    "# sys.path.insert(0, 'c:/Repositories/FloodAdapt/')\n",
    "\n",
    "from flood_adapt.object_model.site import Site\n",
    "from flood_adapt.object_model.projection import Projection"
   ]
  },
  {
   "cell_type": "markdown",
   "metadata": {},
   "source": [
    "## Set base FloodAdapt path"
   ]
  },
  {
   "cell_type": "code",
   "execution_count": 2,
   "metadata": {},
   "outputs": [],
   "source": [
    "model_root = Path('c:/Repositories/DT-flood/FloodAdapt_database/Humber/')"
   ]
  },
  {
   "cell_type": "markdown",
   "metadata": {},
   "source": [
    "As a first check, load in site.toml of the relevant model/database"
   ]
  },
  {
   "cell_type": "code",
   "execution_count": 3,
   "metadata": {},
   "outputs": [
    {
     "name": "stdout",
     "output_type": "stream",
     "text": [
      "{'benefits': BenefitsModel(current_year=2023, current_projection='current', baseline_strategy='no_measures', event_set='test_set'),\n",
      " 'cyclone_track_database': Cyclone_track_databaseModel(file=''),\n",
      " 'dem': DemModel(filename='Humber_subgrid.tif', units=<UnitTypesLength.meters: 'meters'>),\n",
      " 'description': 'Humber Delta, UK',\n",
      " 'fiat': FiatModel(exposure_crs='EPSG:4326', bfe=BFEModel(geom='', table=None, field_name=''), aggregation=[AggregationModel(name='gadm_level3', file='../templates/fiat/aggregation_areas/gadm41_GBR_3.shp', field_name='ADM_ADM_3', equity=None)], floodmap_type=<Floodmap_type.water_level: 'water_level'>, non_building_names=None, damage_unit='$', building_footprints=None, roads_file_name=None, new_development_file_name=None, save_simulation=False, svi=None),\n",
      " 'gui': GuiModel(tide_harmonic_amplitude=UnitfulLength(value=0.0, units=<UnitTypesLength.meters: 'meters'>), default_length_units=<UnitTypesLength.meters: 'meters'>, default_distance_units=<UnitTypesLength.meters: 'meters'>, default_area_units=<UnitTypesArea.m2: 'm2'>, default_volume_units=<UnitTypesVolume.m3: 'm3'>, default_velocity_units=<UnitTypesVelocity.meters: 'm/s'>, default_direction_units=<UnitTypesDirection.degrees: 'deg N'>, default_discharge_units=<UnitTypesDischarge.cms: 'm3/s'>, default_intensity_units=<UnitTypesIntensity.mm: 'mm/hr'>, default_cumulative_units=<UnitTypesLength.meters: 'meters'>, mapbox_layers=MapboxLayersModel(flood_map_depth_min=0.0, flood_map_zbmax=0.0, flood_map_bins=[], flood_map_colors=[], aggregation_dmg_bins=[], aggregation_dmg_colors=[], footprints_dmg_bins=[], footprints_dmg_colors=[], svi_bins=None, svi_colors=None, benefits_bins=[], benefits_colors=[], damage_decimals=0)),\n",
      " 'lat': 53.66,\n",
      " 'lon': -0.47,\n",
      " 'name': 'Humber',\n",
      " 'obs_point': None,\n",
      " 'obs_station': None,\n",
      " 'risk': RiskModel(flooding_threshold=UnitfulLength(value=0.15, units=<UnitTypesLength.meters: 'meters'>), return_periods=[1, 2, 5, 10, 25, 50, 100]),\n",
      " 'river': [],\n",
      " 'scs': None,\n",
      " 'sfincs': SfincsModel(csname='WGS 84 / UTM zone 30N', cstype=<Cstype.projected: 'projected'>, version='SFINCS_v2.0.1_tag_exe', offshore_model='', overland_model='overland', ambient_air_pressure=10200532.0, floodmap_units=<UnitTypesLength.meters: 'meters'>, save_simulation=False),\n",
      " 'slr': SlrModel(vertical_offset=UnitfulLength(value=0.2, units=<UnitTypesLength.meters: 'meters'>), relative_to_year=2020),\n",
      " 'standard_objects': StandardObjectModel(events=[], projections=[], strategies=[]),\n",
      " 'water_level': WaterLevelReferenceModel(reference=VerticalReferenceModel(name='MSL', height=UnitfulLength(value=0.0, units=<UnitTypesLength.meters: 'meters'>)), localdatum=VerticalReferenceModel(name='EGM2008', height=UnitfulLength(value=0.0, units=<UnitTypesLength.meters: 'meters'>)), msl=VerticalReferenceModel(name='MSL', height=UnitfulLength(value=0.0, units=<UnitTypesLength.meters: 'meters'>)), other=None)}\n"
     ]
    }
   ],
   "source": [
    "site_fn = model_root / 'static' / 'site' / 'site.toml'\n",
    "site_obj = Site.load_file(site_fn)\n",
    "\n",
    "pprint(vars(site_obj.attrs))"
   ]
  },
  {
   "cell_type": "markdown",
   "metadata": {},
   "source": [
    "## Projection name\n",
    "Set the name of the projection and create the folder where it is saved"
   ]
  },
  {
   "cell_type": "code",
   "execution_count": 6,
   "metadata": {},
   "outputs": [],
   "source": [
    "projection_name = 'current'\n",
    "projection_path = model_root / 'input' / 'projections' / projection_name\n",
    "if not projection_path.exists():\n",
    "    makedirs(projection_path)"
   ]
  },
  {
   "cell_type": "markdown",
   "metadata": {},
   "source": [
    "## Projection dictionary\n",
    "\n",
    "The dict containing all the setting that (can) go into a projection toml file:\n",
    "- `name`: Name of the projection\n",
    "- `description`: Longer description of the projection (optional)\n",
    "- `physical_projection`: Projection for climate change (dict, containing the following):\n",
    "    - `sea_level_rise`: Additional sea level rise on top of site.slr (UnitfulLength)\n",
    "    - `subsidence`: Soil subsidence (UnitfulLength)\n",
    "    - `rainfall_increase`: Percentage increase in rainfall\n",
    "    - `storm_frequency_increase`: Percentage increase in storm frequency\n",
    "- `socio_economic_change`: Projection of socio economic changes (dict, containing the following):\n",
    "    - `population_growth_existing`: Current percentage changes in population\n",
    "    - `economic_growth`: Expected economic growth percentage\n",
    "    - `population_growth_new`: Additional percentage change in population\n",
    "    - `new_development_elevation`: Elevation at which new delevopment is built (on top of DEM elevation)\n",
    "    - `new_development_shapefile`: Path to shape file of new (urban) development"
   ]
  },
  {
   "cell_type": "code",
   "execution_count": 12,
   "metadata": {},
   "outputs": [],
   "source": [
    "projection_dict = {\n",
    "    'name': projection_name,\n",
    "    'physical_projection': {},\n",
    "    'socio_economic_change': {}\n",
    "}"
   ]
  },
  {
   "cell_type": "markdown",
   "metadata": {},
   "source": [
    "## Save projection to file"
   ]
  },
  {
   "cell_type": "code",
   "execution_count": 19,
   "metadata": {},
   "outputs": [],
   "source": [
    "projection_fn = projection_path / f\"{projection_name}.toml\"\n",
    "\n",
    "with open(projection_fn, 'wb') as f:\n",
    "    tomli_w.dump(projection_dict,f)"
   ]
  },
  {
   "cell_type": "markdown",
   "metadata": {},
   "source": [
    "## Test load"
   ]
  },
  {
   "cell_type": "code",
   "execution_count": 14,
   "metadata": {},
   "outputs": [],
   "source": [
    "test_load = Projection.load_file(projection_fn)"
   ]
  },
  {
   "cell_type": "code",
   "execution_count": 18,
   "metadata": {},
   "outputs": [
    {
     "name": "stdout",
     "output_type": "stream",
     "text": [
      "{'description': '',\n",
      " 'name': 'current',\n",
      " 'physical_projection': {'rainfall_increase': 0.0,\n",
      "                         'sea_level_rise': {'units': <UnitTypesLength.meters: 'meters'>,\n",
      "                                            'value': 0.0},\n",
      "                         'storm_frequency_increase': 0.0,\n",
      "                         'subsidence': {'units': <UnitTypesLength.meters: 'meters'>,\n",
      "                                        'value': 0.0}},\n",
      " 'socio_economic_change': {'economic_growth': 0.0,\n",
      "                           'new_development_elevation': None,\n",
      "                           'new_development_shapefile': None,\n",
      "                           'population_growth_existing': 0.0,\n",
      "                           'population_growth_new': 0.0}}\n"
     ]
    }
   ],
   "source": [
    "pprint(test_load.attrs.dict())"
   ]
  },
  {
   "cell_type": "code",
   "execution_count": null,
   "metadata": {},
   "outputs": [],
   "source": []
  }
 ],
 "metadata": {
  "kernelspec": {
   "display_name": "Python 3",
   "language": "python",
   "name": "python3"
  },
  "language_info": {
   "codemirror_mode": {
    "name": "ipython",
    "version": 3
   },
   "file_extension": ".py",
   "mimetype": "text/x-python",
   "name": "python",
   "nbconvert_exporter": "python",
   "pygments_lexer": "ipython3",
   "version": "3.10.13"
  },
  "orig_nbformat": 4
 },
 "nbformat": 4,
 "nbformat_minor": 2
}
