{
 "cells": [
  {
   "cell_type": "markdown",
   "metadata": {},
   "source": [
    "# Build a WFlow model anywhere\n",
    "\n",
    "In this notebook we will setup a WFlow model coupled to the FloodAdapt backend\n",
    "\n",
    "## **Step 0:** Import dependencies"
   ]
  },
  {
   "cell_type": "code",
   "execution_count": 15,
   "metadata": {},
   "outputs": [],
   "source": [
    "from pathlib import Path\n",
    "import hydromt\n",
    "import geopandas as gpd\n",
    "from hydromt.log import setuplog\n",
    "from hydromt.config import configread\n",
    "from hydromt_wflow import WflowModel"
   ]
  },
  {
   "cell_type": "code",
   "execution_count": 10,
   "metadata": {},
   "outputs": [],
   "source": [
    "model_name = 'Humber'\n",
    "model_path = Path('c:/Repositories/DT-flood/FloodAdapt_database') / model_name\n",
    "# model_path = Path(\"../FloodAdapt_database\") / model_name\n",
    "\n",
    "wf_root = model_path / Path('static/templates/wflow')\n",
    "\n",
    "wf_logger_name = 'WFlow_Logger'\n",
    "\n",
    "region_fn = model_path / 'HumberDelta_large.geojson'"
   ]
  },
  {
   "cell_type": "code",
   "execution_count": 11,
   "metadata": {},
   "outputs": [],
   "source": [
    "# Use this for own data_catalog file\n",
    "data_catalog_fn = Path('c:/Users/tromp_wm/OneDrive - Stichting Deltares/Documents/InterTwin Project/Data/DTFlood_test_catalog.yml')\n",
    "\n",
    "data_dict = {\n",
    "    'topo': 'copdem30',\n",
    "    'bathy': 'gebco',\n",
    "    'waterlevels': 'gtsm_hourly',\n",
    "    'meteo': 'era5_hourly',\n",
    "    'infiltration': 'gcn250',\n",
    "    'lulc': 'esa_worldcover',\n",
    "    'basins': 'BasinAtlas',\n",
    "}"
   ]
  },
  {
   "cell_type": "code",
   "execution_count": 12,
   "metadata": {},
   "outputs": [
    {
     "name": "stdout",
     "output_type": "stream",
     "text": [
      "2024-01-29 09:48:45,923 - WFlow_Logger - log - INFO - HydroMT version: 0.8.0\n"
     ]
    }
   ],
   "source": [
    "wf_logger = setuplog(wf_logger_name,log_level=10)\n",
    "\n",
    "# data_catalog = hydromt.DataCatalog(data_libs=data_catalog_fn,logger=wf_logger)\n",
    "\n",
    "wf = WflowModel(data_libs=[data_catalog_fn, 'deltares_data=v2022.7'], root=wf_root, mode='w+')"
   ]
  },
  {
   "cell_type": "code",
   "execution_count": 17,
   "metadata": {},
   "outputs": [],
   "source": [
    "ini_fn = model_path / \"wflow_build.ini\"\n",
    "opt = configread(ini_fn)\n",
    "\n",
    "region = gpd.read_file(region_fn)"
   ]
  },
  {
   "cell_type": "code",
   "execution_count": 18,
   "metadata": {},
   "outputs": [
    {
     "name": "stderr",
     "output_type": "stream",
     "text": [
      "No numerical nodata value found, skipping set_nodata\n",
      "No numerical nodata value found, skipping set_nodata\n",
      "No numerical nodata value found, skipping set_nodata\n",
      "No numerical nodata value found, skipping set_nodata\n",
      "No numerical nodata value found, skipping set_nodata\n",
      "No numerical nodata value found, skipping set_nodata\n",
      "No numerical nodata value found, skipping set_nodata\n",
      "No numerical nodata value found, skipping set_nodata\n",
      "No numerical nodata value found, skipping set_nodata\n"
     ]
    },
    {
     "name": "stdout",
     "output_type": "stream",
     "text": [
      "[########################################] | 100% Completed | 9.11 sms\n"
     ]
    }
   ],
   "source": [
    "wf.build(region={'basin': region, 'outlets': True}, opt=opt)"
   ]
  },
  {
   "cell_type": "code",
   "execution_count": null,
   "metadata": {},
   "outputs": [],
   "source": []
  }
 ],
 "metadata": {
  "kernelspec": {
   "display_name": "Python 3",
   "language": "python",
   "name": "python3"
  },
  "language_info": {
   "codemirror_mode": {
    "name": "ipython",
    "version": 3
   },
   "file_extension": ".py",
   "mimetype": "text/x-python",
   "name": "python",
   "nbconvert_exporter": "python",
   "pygments_lexer": "ipython3",
   "version": "3.10.13"
  }
 },
 "nbformat": 4,
 "nbformat_minor": 2
}
