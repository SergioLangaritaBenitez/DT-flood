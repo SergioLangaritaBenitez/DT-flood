{
 "cells": [
  {
   "cell_type": "markdown",
   "metadata": {},
   "source": [
    "# Build a Delft-FIAT model for the FloodAdapt backend\n",
    "\n",
    "This notebook demonstrates how to set up a Delft-FIAT model anywhere in the world ready to be used in FloodAdapt. As an example we will create a model for the city of Kingston upon Hull, UK, in the Humber delta. The relevant data will be taken from [OpenStreetMap (OSM)](https://www.openstreetmap.org) and the [global flood vulnerability datasets from JRC](https://publications.jrc.ec.europa.eu/repository/handle/JRC105688). Both the data sources and the region of interest (the model domain) can be changed according to the user's wishes.\n",
    "\n",
    "*Disclaimer: The outcomes of this model are not validated*\n",
    "\n",
    "## **Step 0**: Import required packages\n",
    "First we need to import the necessary python packages."
   ]
  },
  {
   "cell_type": "code",
   "execution_count": 1,
   "metadata": {},
   "outputs": [],
   "source": [
    "import os\n",
    "import numpy as np\n",
    "import xarray as xr\n",
    "from hydromt_fiat.workflows.exposure_vector import ExposureVector\n",
    "from hydromt_fiat.fiat import FiatModel\n",
    "from hydromt.log import setuplog\n",
    "from pathlib import Path\n",
    "import geopandas as gpd\n",
    "import matplotlib.pyplot as plt\n",
    "import pandas as pd\n",
    "import rasterio\n",
    "from rasterio.features import rasterize\n",
    "from xrspatial import zonal_stats"
   ]
  },
  {
   "cell_type": "markdown",
   "metadata": {},
   "source": [
    "## **Step 1:** List Input Names\n",
    "Here we list the input paths and names of some needed utilities:\n",
    "- `model_name`: This is the name for the overall FloodAdapt folder where everything will be stored. Named after region of interest (in this case)\n",
    "- `model_path`: The full path of the FloodAdapt model folder\n",
    "- `fiat_root`: Path to folder parsed by FloodAdapt where FIAT model is stored.\n",
    "- `fiat_logger_name`: Name for the FIAT logger\n",
    "- `region_fn`: Path to geojson file of the region of interest. Used when building FIAT domain\n",
    "- `data_catalog_fn`: Path to data_catalog yml file"
   ]
  },
  {
   "cell_type": "code",
   "execution_count": 2,
   "metadata": {},
   "outputs": [],
   "source": [
    "model_name = 'Humber'\n",
    "model_path = Path('c:/Repositories/DT-flood/FloodAdapt_database') / model_name\n",
    "\n",
    "fiat_root = model_path / Path('static/templates/fiat')\n",
    "\n",
    "fiat_logger_name = \"FIAT_logger\"\n",
    "\n",
    "region_fn = model_path / 'HumberDelta_large.geojson'\n",
    "\n",
    "data_catalog_fn = model_path / 'FLoodAdapt_Humber_catalog.yml'"
   ]
  },
  {
   "cell_type": "markdown",
   "metadata": {},
   "source": [
    "## **Step 2**: Initialize\n",
    "In this step we initialize HydroMT-FIAT with the `model_folder`, `data_catalog`, and `logger` that we defined above."
   ]
  },
  {
   "cell_type": "code",
   "execution_count": 3,
   "metadata": {},
   "outputs": [
    {
     "name": "stdout",
     "output_type": "stream",
     "text": [
      "2024-02-05 13:29:53,227 - FIAT_logger - log - INFO - HydroMT version: 0.8.0\n",
      "2024-02-05 13:29:53,281 - FIAT_logger - data_catalog - INFO - Parsing data catalog from c:\\Repositories\\DT-flood\\FloodAdapt_database\\Humber\\FLoodAdapt_Humber_catalog.yml\n",
      "2024-02-05 13:29:53,289 - FIAT_logger - model_api - WARNING - Model dir already exists and files might be overwritten: c:\\Repositories\\DT-flood\\FloodAdapt_database\\Humber\\static\\templates\\fiat\\exposure.\n",
      "2024-02-05 13:29:53,290 - FIAT_logger - model_api - WARNING - Model dir already exists and files might be overwritten: c:\\Repositories\\DT-flood\\FloodAdapt_database\\Humber\\static\\templates\\fiat\\vulnerability.\n",
      "2024-02-05 13:29:53,292 - FIAT_logger - log - DEBUG - Appending log messages to file c:\\Repositories\\DT-flood\\FloodAdapt_database\\Humber\\static\\templates\\fiat\\hydromt.log.\n",
      "2024-02-05 13:29:53,294 - FIAT_logger - model_api - INFO - Initializing fiat model from hydromt_fiat (v0.2.1.dev0).\n"
     ]
    }
   ],
   "source": [
    "fiat_logger = setuplog(fiat_logger_name, log_level=10)\n",
    "\n",
    "fiat = FiatModel(root=fiat_root, data_libs=[data_catalog_fn], mode='w+', logger=fiat_logger)"
   ]
  },
  {
   "cell_type": "markdown",
   "metadata": {},
   "source": [
    "## **Step 3a:** Configure model - Setup Region\n",
    "Build the model domain with the geojson file specified earlier. We also need to indicate the country and continent the model domain is in."
   ]
  },
  {
   "cell_type": "code",
   "execution_count": 4,
   "metadata": {},
   "outputs": [],
   "source": [
    "region = gpd.read_file(region_fn)\n",
    "\n",
    "continent = 'Europe'\n",
    "country = 'United Kingdom'"
   ]
  },
  {
   "cell_type": "markdown",
   "metadata": {},
   "source": [
    "## **Step 3b:** Configure model - Configure input data\n",
    "\n",
    "Next, we need to specify properties of the various dataset. For the vulnerability and exposure data HydroMT-FIAT needs the names and unit of the datasets. The names should correspond to the names (keys) in the data catalog except from the OSM data, which is accessed with the [OSMnx Python package](https://geoffboeing.com/publications/osmnx-complex-street-networks/). Should you wish to use different data sources, *make sure to update the data catalog*. For the output data, we need to specify the output file names and where to store them. The parameter names below are parsed by the model builder, so they should not be changed.\n",
    "\n",
    "**Vulnerability**\n",
    "- `vulnerability_fn`: the source name of the vulnerability curve dataset as defined in the HydroMT-FIAT global data catalog. In this example, we use the JRC global damage curves.\n",
    "- `vulnerability_identifiers_and_linking_fn`: the source name of the *occupancy type-vulnerability curves* linking table as defined in the HydroMT-FIAT data catalog. In this example, we use the default table for linking the OSM land use classese to the JRC damage curves (i.e., the assets classified as residential links to the residential vulnerability curves of JRC).\n",
    "- `unit`: the unit of the vulnerability curves. The JRC curves are in meters.\n",
    "\n",
    "**Exposure**\n",
    "- `asset_locations`: the source name of the location and (optionally) geometry data of the assests for which damages will be calculated. In this example, the building footprints from OSM are used.\n",
    "- `occupancy_type`: the source name of the occupancy type data to classify the assets. In this example, the land use data from OSM is used.\n",
    "- `max_potential_damage`: the source name of the maximum potential damage values data. In this example, the JRC maximum damage values are used.\n",
    "- `ground_floor_height`: the height of the ground floor of all assets, in the same `unit`\n",
    "- `unit`: the unit of the exposure data\n",
    "\n",
    "**Output**\n",
    "- `output_dir`: the name of the output directory\n",
    "- `output_csv_name`: the name of the output CSV\n",
    "- `output_vector_name`: the name of the vector output file(s)\n",
    "\n",
    "*Note: The unit names are parsed by FloodAdapt. See FloodAdapt's UnitfulValue for correct formatting*"
   ]
  },
  {
   "cell_type": "code",
   "execution_count": 5,
   "metadata": {},
   "outputs": [],
   "source": [
    "### Setup vulnerability parameters ###\n",
    "vulnerability_fn = \"jrc_vulnerability_curves\"\n",
    "vulnerability_identifiers_and_linking_fn = \"jrc_vulnerability_curves_linking\"\n",
    "unit = \"meters\"\n",
    "\n",
    "### Setup exposure parameters ###\n",
    "asset_locations = \"OSM\"\n",
    "occupancy_type = \"OSM\"\n",
    "max_potential_damage = \"jrc_damage_values\"\n",
    "ground_floor_height = 0\n",
    "ground_floor_height_unit = \"meters\"\n",
    "damage_types = ['total']\n",
    "\n",
    "### Setup output parameters ###\n",
    "output_dir = \"output\"\n",
    "output_csv_name = \"output.csv\"\n",
    "output_vector_name = \"spatial.gpkg\"\n",
    "\n",
    "### Setup Aggregation Zone parameters ###\n",
    "agg_area_folder = Path('c:/Repositories/DT-flood/Data/aggregation_zones')\n",
    "aggregation_area_fn = [agg_area_folder/\"gadm41_GBR_3.shp\"]\n",
    "attribute_names = [\"NAME_3\"]\n",
    "label_names = [\"AdminZonesLevel3\"]"
   ]
  },
  {
   "cell_type": "code",
   "execution_count": 6,
   "metadata": {},
   "outputs": [],
   "source": [
    "configuration = {\n",
    "    \"setup_output\": {\n",
    "        \"output_dir\": output_dir,\n",
    "        \"output_csv_name\": output_csv_name,\n",
    "        \"output_vector_name\": output_vector_name,\n",
    "    },\n",
    "    \"setup_vulnerability\": {\n",
    "        \"vulnerability_fn\": vulnerability_fn,\n",
    "        \"vulnerability_identifiers_and_linking_fn\": vulnerability_identifiers_and_linking_fn,\n",
    "        \"continent\": continent,\n",
    "        \"unit\": unit,\n",
    "    },\n",
    "    \"setup_exposure_buildings\": {\n",
    "        \"asset_locations\": asset_locations,\n",
    "        \"occupancy_type\": occupancy_type,\n",
    "        \"max_potential_damage\": max_potential_damage,\n",
    "        \"ground_floor_height\": ground_floor_height,\n",
    "        \"unit\": ground_floor_height_unit,\n",
    "        \"country\": country,\n",
    "        \"damage_types\": damage_types,\n",
    "    },\n",
    "    \"setup_aggregation_areas\": {\n",
    "        \"aggregation_area_fn\": aggregation_area_fn,\n",
    "        \"attribute_names\": attribute_names,\n",
    "        \"label_names\": label_names,\n",
    "    },\n",
    "}"
   ]
  },
  {
   "cell_type": "markdown",
   "metadata": {},
   "source": [
    "## **Step 4:** Build model\n",
    "\n",
    "In this step we build the Delft-FIAT model. Depending on the extent of the model it can take some time to download the building footprints and land use data from OSM. During the building of the model, log messages display what is happening.\n",
    "\n",
    "*Note that the model will not yet be written because of setting the write argument to False.*"
   ]
  },
  {
   "cell_type": "code",
   "execution_count": 8,
   "metadata": {},
   "outputs": [
    {
     "name": "stdout",
     "output_type": "stream",
     "text": [
      "2024-02-05 13:31:14,478 - FIAT_logger - basin_mask - DEBUG - Parsed region (kind=geom): {'geom': 'GeoDataFrame [-1.05681688 53.45678163  0.17432842 53.82248393] (crs = epsg:4326)'}\n"
     ]
    },
    {
     "name": "stderr",
     "output_type": "stream",
     "text": [
      "DEBUG:FIAT_logger:Parsed region (kind=geom): {'geom': 'GeoDataFrame [-1.05681688 53.45678163  0.17432842 53.82248393] (crs = epsg:4326)'}\n"
     ]
    },
    {
     "name": "stdout",
     "output_type": "stream",
     "text": [
      "2024-02-05 13:31:14,482 - FIAT_logger - model_api - WARNING - Replacing geom: region\n"
     ]
    },
    {
     "name": "stderr",
     "output_type": "stream",
     "text": [
      "WARNING:FIAT_logger:Replacing geom: region\n"
     ]
    },
    {
     "name": "stdout",
     "output_type": "stream",
     "text": [
      "2024-02-05 13:31:14,486 - FIAT_logger - data_catalog - INFO - DataCatalog: Getting jrc_vulnerability_curves DataFrame csv data from C:\\Repositories\\DT-flood\\Data\\damage_functions\\flooding\\JRC_damage_functions.csv\n"
     ]
    },
    {
     "name": "stderr",
     "output_type": "stream",
     "text": [
      "INFO:FIAT_logger:DataCatalog: Getting jrc_vulnerability_curves DataFrame csv data from C:\\Repositories\\DT-flood\\Data\\damage_functions\\flooding\\JRC_damage_functions.csv\n"
     ]
    },
    {
     "name": "stdout",
     "output_type": "stream",
     "text": [
      "2024-02-05 13:31:14,489 - FIAT_logger - dataframe - INFO - DataFrame: Read csv data.\n"
     ]
    },
    {
     "name": "stderr",
     "output_type": "stream",
     "text": [
      "INFO:FIAT_logger:DataFrame: Read csv data.\n"
     ]
    },
    {
     "name": "stdout",
     "output_type": "stream",
     "text": [
      "2024-02-05 13:31:14,516 - FIAT_logger - data_catalog - INFO - DataCatalog: Getting jrc_vulnerability_curves_linking DataFrame csv data from C:\\Repositories\\DT-flood\\Data\\damage_functions\\flooding\\JRC_damage_functions_linking.csv\n"
     ]
    },
    {
     "name": "stderr",
     "output_type": "stream",
     "text": [
      "INFO:FIAT_logger:DataCatalog: Getting jrc_vulnerability_curves_linking DataFrame csv data from C:\\Repositories\\DT-flood\\Data\\damage_functions\\flooding\\JRC_damage_functions_linking.csv\n"
     ]
    },
    {
     "name": "stdout",
     "output_type": "stream",
     "text": [
      "2024-02-05 13:31:14,518 - FIAT_logger - dataframe - INFO - DataFrame: Read csv data.\n"
     ]
    },
    {
     "name": "stderr",
     "output_type": "stream",
     "text": [
      "INFO:FIAT_logger:DataFrame: Read csv data.\n"
     ]
    }
   ],
   "source": [
    "fiat.setup_region({\"geom\": region})\n",
    "fiat.setup_output(**configuration[\"setup_output\"])\n",
    "fiat.setup_vulnerability(**configuration[\"setup_vulnerability\"])\n",
    "#\n",
    "# fiat.setup_exposure_buildings(**configuration[\"setup_exposure_buildings\"])"
   ]
  },
  {
   "cell_type": "code",
   "execution_count": 13,
   "metadata": {},
   "outputs": [
    {
     "name": "stdout",
     "output_type": "stream",
     "text": [
      "2024-02-05 13:35:20,340 - FIAT_logger - exposure_vector - INFO - Setting up asset locations...\n"
     ]
    },
    {
     "name": "stderr",
     "output_type": "stream",
     "text": [
      "INFO:FIAT_logger:Setting up asset locations...\n"
     ]
    },
    {
     "name": "stdout",
     "output_type": "stream",
     "text": [
      "2024-02-05 13:35:40,984 - FIAT_logger - exposure_vector - INFO - Setting exposure geometries...\n"
     ]
    },
    {
     "name": "stderr",
     "output_type": "stream",
     "text": [
      "INFO:FIAT_logger:Setting exposure geometries...\n"
     ]
    },
    {
     "name": "stdout",
     "output_type": "stream",
     "text": [
      "2024-02-05 13:35:40,987 - FIAT_logger - exposure_vector - INFO - Setting geometry name to buildings...\n"
     ]
    },
    {
     "name": "stderr",
     "output_type": "stream",
     "text": [
      "INFO:FIAT_logger:Setting geometry name to buildings...\n"
     ]
    }
   ],
   "source": [
    "test_exposure = ExposureVector(fiat.data_catalog, fiat.logger, fiat.region, unit=unit)\n",
    "test_exposure.setup_asset_locations(asset_locations)\n",
    "# test_exposure.setup_occupancy_type(occupancy_type, None)\n",
    "# test_exposure.exposure_db = test_exposure.exposure_db.rename(columns={'pot': 'Primary Object Type'})\n",
    "# test_exposure.setup_max_potential_damage(max_potential_damage, damage_types, country=country)\n",
    "# test_exposure.setup_ground_floor_height(0, None, 'nearest', 10)\n",
    "# test_exposure.setup_extraction_method('centroid')\n",
    "# test_exposure.setup_ground_elevation(None)\n",
    "# test_exposure.link_exposure_vulnerability(fiat.vf_ids_and_linking_df, damage_types)\n",
    "# test_exposure.check_required_columns()"
   ]
  },
  {
   "cell_type": "code",
   "execution_count": 14,
   "metadata": {},
   "outputs": [
    {
     "data": {
      "text/html": [
       "<div>\n",
       "<style scoped>\n",
       "    .dataframe tbody tr th:only-of-type {\n",
       "        vertical-align: middle;\n",
       "    }\n",
       "\n",
       "    .dataframe tbody tr th {\n",
       "        vertical-align: top;\n",
       "    }\n",
       "\n",
       "    .dataframe thead th {\n",
       "        text-align: right;\n",
       "    }\n",
       "</style>\n",
       "<table border=\"1\" class=\"dataframe\">\n",
       "  <thead>\n",
       "    <tr style=\"text-align: right;\">\n",
       "      <th></th>\n",
       "    </tr>\n",
       "  </thead>\n",
       "  <tbody>\n",
       "  </tbody>\n",
       "</table>\n",
       "</div>"
      ],
      "text/plain": [
       "Empty DataFrame\n",
       "Columns: []\n",
       "Index: []"
      ]
     },
     "execution_count": 14,
     "metadata": {},
     "output_type": "execute_result"
    }
   ],
   "source": [
    "test_exposure.exposure_db"
   ]
  },
  {
   "cell_type": "code",
   "execution_count": 9,
   "metadata": {},
   "outputs": [],
   "source": [
    "fiat.exposure = test_exposure\n",
    "fiat.set_config(\"exposure.csv.file\",\"./exposure/exposure.csv\")\n",
    "fiat.set_config(\"exposure.geom.crs\",fiat.exposure.crs)\n",
    "fiat.set_config(\"exposure.geom.unit\",unit)"
   ]
  },
  {
   "cell_type": "code",
   "execution_count": null,
   "metadata": {},
   "outputs": [],
   "source": [
    "fiat.setup_aggregation_areas(**configuration[\"setup_aggregation_areas\"])"
   ]
  },
  {
   "cell_type": "code",
   "execution_count": 7,
   "metadata": {},
   "outputs": [
    {
     "name": "stdout",
     "output_type": "stream",
     "text": [
      "2024-02-05 13:30:19,197 - FIAT_logger - model_api - INFO - setup_region.region: {'geom':                                             geometry\n",
      "0  POLYGON ((-1.05682 53.82248, -1.05682 53.45678...}\n",
      "2024-02-05 13:30:19,203 - FIAT_logger - basin_mask - DEBUG - Parsed region (kind=geom): {'geom': 'GeoDataFrame [-1.05681688 53.45678163  0.17432842 53.82248393] (crs = epsg:4326)'}\n",
      "2024-02-05 13:30:19,207 - FIAT_logger - model_api - INFO - setup_output.output_dir: output\n",
      "2024-02-05 13:30:19,208 - FIAT_logger - model_api - INFO - setup_output.output_csv_name: output.csv\n",
      "2024-02-05 13:30:19,209 - FIAT_logger - model_api - INFO - setup_output.output_vector_name: spatial.gpkg\n",
      "2024-02-05 13:30:19,210 - FIAT_logger - model_api - ERROR - Default config file not found at c:\\Repositories\\DT-flood\\Notebooks\\data\\fiat\\settings.toml\n",
      "2024-02-05 13:30:19,212 - FIAT_logger - model_api - INFO - setup_vulnerability.vulnerability_fn: jrc_vulnerability_curves\n",
      "2024-02-05 13:30:19,213 - FIAT_logger - model_api - INFO - setup_vulnerability.vulnerability_identifiers_and_linking_fn: jrc_vulnerability_curves_linking\n",
      "2024-02-05 13:30:19,214 - FIAT_logger - model_api - INFO - setup_vulnerability.unit: meters\n",
      "2024-02-05 13:30:19,215 - FIAT_logger - model_api - INFO - setup_vulnerability.functions_mean: default\n",
      "2024-02-05 13:30:19,216 - FIAT_logger - model_api - INFO - setup_vulnerability.functions_max: None\n",
      "2024-02-05 13:30:19,216 - FIAT_logger - model_api - INFO - setup_vulnerability.step_size: None\n",
      "2024-02-05 13:30:19,218 - FIAT_logger - model_api - INFO - setup_vulnerability.continent: Europe\n",
      "2024-02-05 13:30:19,219 - FIAT_logger - data_catalog - INFO - DataCatalog: Getting jrc_vulnerability_curves DataFrame csv data from C:\\Repositories\\DT-flood\\Data\\damage_functions\\flooding\\JRC_damage_functions.csv\n",
      "2024-02-05 13:30:19,226 - FIAT_logger - dataframe - INFO - DataFrame: Read csv data.\n",
      "2024-02-05 13:30:19,261 - FIAT_logger - data_catalog - INFO - DataCatalog: Getting jrc_vulnerability_curves_linking DataFrame csv data from C:\\Repositories\\DT-flood\\Data\\damage_functions\\flooding\\JRC_damage_functions_linking.csv\n",
      "2024-02-05 13:30:19,263 - FIAT_logger - dataframe - INFO - DataFrame: Read csv data.\n",
      "2024-02-05 13:30:19,287 - FIAT_logger - model_api - INFO - setup_exposure_buildings.asset_locations: OSM\n",
      "2024-02-05 13:30:19,288 - FIAT_logger - model_api - INFO - setup_exposure_buildings.occupancy_type: OSM\n",
      "2024-02-05 13:30:19,289 - FIAT_logger - model_api - INFO - setup_exposure_buildings.max_potential_damage: jrc_damage_values\n",
      "2024-02-05 13:30:19,290 - FIAT_logger - model_api - INFO - setup_exposure_buildings.ground_floor_height: 0\n",
      "2024-02-05 13:30:19,291 - FIAT_logger - model_api - INFO - setup_exposure_buildings.unit: meters\n",
      "2024-02-05 13:30:19,292 - FIAT_logger - model_api - INFO - setup_exposure_buildings.occupancy_attr: None\n",
      "2024-02-05 13:30:19,293 - FIAT_logger - model_api - INFO - setup_exposure_buildings.occupancy_object_type: None\n",
      "2024-02-05 13:30:19,294 - FIAT_logger - model_api - INFO - setup_exposure_buildings.extraction_method: centroid\n",
      "2024-02-05 13:30:19,295 - FIAT_logger - model_api - INFO - setup_exposure_buildings.damage_types: ['total']\n",
      "2024-02-05 13:30:19,296 - FIAT_logger - model_api - INFO - setup_exposure_buildings.country: United Kingdom\n",
      "2024-02-05 13:30:19,297 - FIAT_logger - model_api - INFO - setup_exposure_buildings.ground_elevation_file: None\n",
      "2024-02-05 13:30:19,299 - FIAT_logger - exposure_vector - INFO - Setting up exposure data from multiple sources...\n",
      "2024-02-05 13:30:19,301 - FIAT_logger - exposure_vector - INFO - Setting up asset locations...\n",
      "2024-02-05 13:30:42,083 - FIAT_logger - exposure_vector - INFO - Setting exposure geometries...\n"
     ]
    },
    {
     "name": "stderr",
     "output_type": "stream",
     "text": [
      "INFO:FIAT_logger:Setting exposure geometries...\n"
     ]
    },
    {
     "name": "stdout",
     "output_type": "stream",
     "text": [
      "2024-02-05 13:30:42,085 - FIAT_logger - exposure_vector - INFO - Setting geometry name to buildings...\n"
     ]
    },
    {
     "name": "stderr",
     "output_type": "stream",
     "text": [
      "INFO:FIAT_logger:Setting geometry name to buildings...\n"
     ]
    },
    {
     "name": "stdout",
     "output_type": "stream",
     "text": [
      "2024-02-05 13:30:42,087 - FIAT_logger - exposure_vector - INFO - Setting up occupancy type from OSM...\n"
     ]
    },
    {
     "name": "stderr",
     "output_type": "stream",
     "text": [
      "INFO:FIAT_logger:Setting up occupancy type from OSM...\n"
     ]
    },
    {
     "name": "stdout",
     "output_type": "stream",
     "text": [
      "2024-02-05 13:30:44,321 - FIAT_logger - exposure_vector - INFO - The following unique landuse types are found in the OSM data: ['residential', 'industrial', 'grass', 'forest', 'military', 'recreation_ground', 'allotments', 'brownfield', 'cemetery', 'commercial', 'retail', 'meadow', 'farmyard', 'farmland', 'landfill', 'railway', 'quarry', 'construction', 'religious', 'conservation', 'churchyard', 'garages', 'depot', 'plant_nursery', 'village_green', 'orchard', 'greenhouse', 'field', 'highway', 'stream', 'vineyard', 'green', 'flowerbed', 'greenhouse_horticulture', 'street', 'greenfield', 'parking', 'animal_keeping']\n"
     ]
    },
    {
     "name": "stderr",
     "output_type": "stream",
     "text": [
      "INFO:FIAT_logger:The following unique landuse types are found in the OSM data: ['residential', 'industrial', 'grass', 'forest', 'military', 'recreation_ground', 'allotments', 'brownfield', 'cemetery', 'commercial', 'retail', 'meadow', 'farmyard', 'farmland', 'landfill', 'railway', 'quarry', 'construction', 'religious', 'conservation', 'churchyard', 'garages', 'depot', 'plant_nursery', 'village_green', 'orchard', 'greenhouse', 'field', 'highway', 'stream', 'vineyard', 'green', 'flowerbed', 'greenhouse_horticulture', 'street', 'greenfield', 'parking', 'animal_keeping']\n",
      "WARNING:py.warnings:c:\\Users\\tromp_wm\\AppData\\Local\\mambaforge\\envs\\DT-flood\\lib\\site-packages\\geopandas\\geodataframe.py:1815: FutureWarning: `unary_union` returned None due to all-None GeoSeries. In future, `unary_union` will return 'GEOMETRYCOLLECTION EMPTY' instead.\n",
      "  merged_geom = block.unary_union\n",
      "\n",
      "WARNING:py.warnings:c:\\Users\\tromp_wm\\AppData\\Local\\mambaforge\\envs\\DT-flood\\lib\\site-packages\\hydromt_fiat\\workflows\\gis.py:64: UserWarning: `keep_geom_type=True` in overlay resulted in 724 dropped geometries of different geometry types than df1 has. Set `keep_geom_type=False` to retain all geometries\n",
      "  gdf = gpd.overlay(left_gdf, right_gdf, how=\"intersection\")\n",
      "\n",
      "WARNING:py.warnings:c:\\Users\\tromp_wm\\AppData\\Local\\mambaforge\\envs\\DT-flood\\lib\\site-packages\\hydromt_fiat\\workflows\\gis.py:65: UserWarning: Geometry is in a geographic CRS. Results from 'area' are likely incorrect. Use 'GeoSeries.to_crs()' to re-project geometries to a projected CRS before this operation.\n",
      "\n",
      "  gdf[\"area\"] = gdf.geometry.area\n",
      "\n"
     ]
    },
    {
     "name": "stdout",
     "output_type": "stream",
     "text": [
      "2024-02-05 13:30:53,520 - FIAT_logger - exposure_vector - WARNING - 6662 objects do not have a Primary Object Type and will be removed from the exposure data.\n"
     ]
    },
    {
     "name": "stderr",
     "output_type": "stream",
     "text": [
      "WARNING:FIAT_logger:6662 objects do not have a Primary Object Type and will be removed from the exposure data.\n"
     ]
    },
    {
     "name": "stdout",
     "output_type": "stream",
     "text": [
      "2024-02-05 13:30:53,568 - FIAT_logger - exposure_vector - WARNING - 29 objects were not overlapping with the land use data and will be removed from the exposure data.\n"
     ]
    },
    {
     "name": "stderr",
     "output_type": "stream",
     "text": [
      "WARNING:FIAT_logger:29 objects were not overlapping with the land use data and will be removed from the exposure data.\n"
     ]
    },
    {
     "name": "stdout",
     "output_type": "stream",
     "text": [
      "2024-02-05 13:30:53,682 - FIAT_logger - data_catalog - INFO - DataCatalog: Getting jrc_damage_values DataFrame csv data from C:\\Repositories\\DT-flood\\Data\\max_potential_damages\\JRC_base_damage_values.csv\n"
     ]
    },
    {
     "name": "stderr",
     "output_type": "stream",
     "text": [
      "INFO:FIAT_logger:DataCatalog: Getting jrc_damage_values DataFrame csv data from C:\\Repositories\\DT-flood\\Data\\max_potential_damages\\JRC_base_damage_values.csv\n"
     ]
    },
    {
     "name": "stdout",
     "output_type": "stream",
     "text": [
      "2024-02-05 13:30:53,684 - FIAT_logger - dataframe - INFO - DataFrame: Read csv data.\n"
     ]
    },
    {
     "name": "stderr",
     "output_type": "stream",
     "text": [
      "INFO:FIAT_logger:DataFrame: Read csv data.\n"
     ]
    },
    {
     "name": "stdout",
     "output_type": "stream",
     "text": [
      "2024-02-05 13:30:53,700 - FIAT_logger - exposure_vector - WARNING - No country specified, using the 'World' JRC damage values.\n"
     ]
    },
    {
     "name": "stderr",
     "output_type": "stream",
     "text": [
      "WARNING:FIAT_logger:No country specified, using the 'World' JRC damage values.\n"
     ]
    },
    {
     "ename": "KeyError",
     "evalue": "\"['Primary Object Type'] not in index\"",
     "output_type": "error",
     "traceback": [
      "\u001b[1;31m---------------------------------------------------------------------------\u001b[0m",
      "\u001b[1;31mKeyError\u001b[0m                                  Traceback (most recent call last)",
      "Cell \u001b[1;32mIn[7], line 1\u001b[0m\n\u001b[1;32m----> 1\u001b[0m \u001b[43mfiat\u001b[49m\u001b[38;5;241;43m.\u001b[39;49m\u001b[43mbuild\u001b[49m\u001b[43m(\u001b[49m\u001b[43mregion\u001b[49m\u001b[38;5;241;43m=\u001b[39;49m\u001b[43m{\u001b[49m\u001b[38;5;124;43m\"\u001b[39;49m\u001b[38;5;124;43mgeom\u001b[39;49m\u001b[38;5;124;43m\"\u001b[39;49m\u001b[43m:\u001b[49m\u001b[43m \u001b[49m\u001b[43mregion\u001b[49m\u001b[43m}\u001b[49m\u001b[43m,\u001b[49m\u001b[43m \u001b[49m\u001b[43mopt\u001b[49m\u001b[38;5;241;43m=\u001b[39;49m\u001b[43mconfiguration\u001b[49m\u001b[43m,\u001b[49m\u001b[43m \u001b[49m\u001b[43mwrite\u001b[49m\u001b[38;5;241;43m=\u001b[39;49m\u001b[38;5;28;43;01mTrue\u001b[39;49;00m\u001b[43m)\u001b[49m\n",
      "File \u001b[1;32mc:\\Users\\tromp_wm\\AppData\\Local\\mambaforge\\envs\\DT-flood\\lib\\site-packages\\hydromt\\models\\model_api.py:220\u001b[0m, in \u001b[0;36mModel.build\u001b[1;34m(self, region, write, opt)\u001b[0m\n\u001b[0;32m    218\u001b[0m         write \u001b[38;5;241m=\u001b[39m \u001b[38;5;28;01mFalse\u001b[39;00m\n\u001b[0;32m    219\u001b[0m     kwargs \u001b[38;5;241m=\u001b[39m {} \u001b[38;5;28;01mif\u001b[39;00m opt[method] \u001b[38;5;129;01mis\u001b[39;00m \u001b[38;5;28;01mNone\u001b[39;00m \u001b[38;5;28;01melse\u001b[39;00m opt[method]\n\u001b[1;32m--> 220\u001b[0m     \u001b[38;5;28mself\u001b[39m\u001b[38;5;241m.\u001b[39m_run_log_method(method, \u001b[38;5;241m*\u001b[39m\u001b[38;5;241m*\u001b[39mkwargs)\n\u001b[0;32m    222\u001b[0m \u001b[38;5;66;03m# write\u001b[39;00m\n\u001b[0;32m    223\u001b[0m \u001b[38;5;28;01mif\u001b[39;00m write:\n",
      "File \u001b[1;32mc:\\Users\\tromp_wm\\AppData\\Local\\mambaforge\\envs\\DT-flood\\lib\\site-packages\\hydromt\\models\\model_api.py:163\u001b[0m, in \u001b[0;36mModel._run_log_method\u001b[1;34m(self, method, *args, **kwargs)\u001b[0m\n\u001b[0;32m    161\u001b[0m     \u001b[38;5;28;01mif\u001b[39;00m v \u001b[38;5;129;01mis\u001b[39;00m \u001b[38;5;129;01mnot\u001b[39;00m inspect\u001b[38;5;241m.\u001b[39m_empty:\n\u001b[0;32m    162\u001b[0m         \u001b[38;5;28mself\u001b[39m\u001b[38;5;241m.\u001b[39mlogger\u001b[38;5;241m.\u001b[39minfo(\u001b[38;5;124mf\u001b[39m\u001b[38;5;124m\"\u001b[39m\u001b[38;5;132;01m{\u001b[39;00mmethod\u001b[38;5;132;01m}\u001b[39;00m\u001b[38;5;124m.\u001b[39m\u001b[38;5;132;01m{\u001b[39;00mk\u001b[38;5;132;01m}\u001b[39;00m\u001b[38;5;124m: \u001b[39m\u001b[38;5;132;01m{\u001b[39;00mv\u001b[38;5;132;01m}\u001b[39;00m\u001b[38;5;124m\"\u001b[39m)\n\u001b[1;32m--> 163\u001b[0m \u001b[38;5;28;01mreturn\u001b[39;00m func(\u001b[38;5;241m*\u001b[39margs, \u001b[38;5;241m*\u001b[39m\u001b[38;5;241m*\u001b[39mkwargs)\n",
      "File \u001b[1;32mc:\\Users\\tromp_wm\\AppData\\Local\\mambaforge\\envs\\DT-flood\\lib\\site-packages\\hydromt_fiat\\fiat.py:347\u001b[0m, in \u001b[0;36mFiatModel.setup_exposure_buildings\u001b[1;34m(self, asset_locations, occupancy_type, max_potential_damage, ground_floor_height, unit, occupancy_attr, occupancy_object_type, extraction_method, damage_types, country, ground_elevation_file)\u001b[0m\n\u001b[0;32m    337\u001b[0m     \u001b[38;5;28mself\u001b[39m\u001b[38;5;241m.\u001b[39mexposure\u001b[38;5;241m.\u001b[39msetup_buildings_from_single_source(\n\u001b[0;32m    338\u001b[0m         asset_locations,\n\u001b[0;32m    339\u001b[0m         ground_floor_height,\n\u001b[0;32m    340\u001b[0m         extraction_method,\n\u001b[0;32m    341\u001b[0m         ground_elevation_file\u001b[38;5;241m=\u001b[39mground_elevation_file,\n\u001b[0;32m    342\u001b[0m     )\n\u001b[0;32m    344\u001b[0m \u001b[38;5;28;01melse\u001b[39;00m:\n\u001b[0;32m    345\u001b[0m     \u001b[38;5;66;03m# The source for the asset locations, occupancy type and maximum potential\u001b[39;00m\n\u001b[0;32m    346\u001b[0m     \u001b[38;5;66;03m# damage is different, use three sources to create the exposure data.\u001b[39;00m\n\u001b[1;32m--> 347\u001b[0m     \u001b[38;5;28;43mself\u001b[39;49m\u001b[38;5;241;43m.\u001b[39;49m\u001b[43mexposure\u001b[49m\u001b[38;5;241;43m.\u001b[39;49m\u001b[43msetup_buildings_from_multiple_sources\u001b[49m\u001b[43m(\u001b[49m\n\u001b[0;32m    348\u001b[0m \u001b[43m        \u001b[49m\u001b[43masset_locations\u001b[49m\u001b[43m,\u001b[49m\n\u001b[0;32m    349\u001b[0m \u001b[43m        \u001b[49m\u001b[43moccupancy_type\u001b[49m\u001b[43m,\u001b[49m\n\u001b[0;32m    350\u001b[0m \u001b[43m        \u001b[49m\u001b[43mmax_potential_damage\u001b[49m\u001b[43m,\u001b[49m\n\u001b[0;32m    351\u001b[0m \u001b[43m        \u001b[49m\u001b[43mground_floor_height\u001b[49m\u001b[43m,\u001b[49m\n\u001b[0;32m    352\u001b[0m \u001b[43m        \u001b[49m\u001b[43mextraction_method\u001b[49m\u001b[43m,\u001b[49m\n\u001b[0;32m    353\u001b[0m \u001b[43m        \u001b[49m\u001b[43moccupancy_attr\u001b[49m\u001b[43m,\u001b[49m\n\u001b[0;32m    354\u001b[0m \u001b[43m        \u001b[49m\u001b[43mdamage_types\u001b[49m\u001b[38;5;241;43m=\u001b[39;49m\u001b[43mdamage_types\u001b[49m\u001b[43m,\u001b[49m\n\u001b[0;32m    355\u001b[0m \u001b[43m        \u001b[49m\u001b[43mcountry\u001b[49m\u001b[38;5;241;43m=\u001b[39;49m\u001b[43mcountry\u001b[49m\u001b[43m,\u001b[49m\n\u001b[0;32m    356\u001b[0m \u001b[43m        \u001b[49m\u001b[43mground_elevation_file\u001b[49m\u001b[38;5;241;43m=\u001b[39;49m\u001b[43mground_elevation_file\u001b[49m\u001b[43m,\u001b[49m\n\u001b[0;32m    357\u001b[0m \u001b[43m    \u001b[49m\u001b[43m)\u001b[49m\n\u001b[0;32m    359\u001b[0m \u001b[38;5;28;01mif\u001b[39;00m asset_locations \u001b[38;5;241m!=\u001b[39m occupancy_type:\n\u001b[0;32m    360\u001b[0m     \u001b[38;5;28mself\u001b[39m\u001b[38;5;241m.\u001b[39mexposure\u001b[38;5;241m.\u001b[39msetup_occupancy_type(\n\u001b[0;32m    361\u001b[0m         occupancy_source\u001b[38;5;241m=\u001b[39moccupancy_type,\n\u001b[0;32m    362\u001b[0m         occupancy_attr\u001b[38;5;241m=\u001b[39moccupancy_attr,\n\u001b[0;32m    363\u001b[0m         type_add\u001b[38;5;241m=\u001b[39moccupancy_object_type,\n\u001b[0;32m    364\u001b[0m     )\n",
      "File \u001b[1;32mc:\\Users\\tromp_wm\\AppData\\Local\\mambaforge\\envs\\DT-flood\\lib\\site-packages\\hydromt_fiat\\workflows\\exposure_vector.py:297\u001b[0m, in \u001b[0;36mExposureVector.setup_buildings_from_multiple_sources\u001b[1;34m(self, asset_locations, occupancy_source, max_potential_damage, ground_floor_height, extraction_method, occupancy_attr, damage_types, country, attr_name_gfh, method_gfh, max_dist, ground_elevation_file)\u001b[0m\n\u001b[0;32m    295\u001b[0m \u001b[38;5;28mself\u001b[39m\u001b[38;5;241m.\u001b[39msetup_asset_locations(asset_locations)\n\u001b[0;32m    296\u001b[0m \u001b[38;5;28mself\u001b[39m\u001b[38;5;241m.\u001b[39msetup_occupancy_type(occupancy_source, occupancy_attr)\n\u001b[1;32m--> 297\u001b[0m \u001b[38;5;28;43mself\u001b[39;49m\u001b[38;5;241;43m.\u001b[39;49m\u001b[43msetup_max_potential_damage\u001b[49m\u001b[43m(\u001b[49m\u001b[43mmax_potential_damage\u001b[49m\u001b[43m,\u001b[49m\u001b[43m \u001b[49m\u001b[43mdamage_types\u001b[49m\u001b[43m,\u001b[49m\u001b[43m \u001b[49m\u001b[43mcountry\u001b[49m\u001b[43m)\u001b[49m\n\u001b[0;32m    298\u001b[0m \u001b[38;5;28mself\u001b[39m\u001b[38;5;241m.\u001b[39msetup_ground_floor_height(\n\u001b[0;32m    299\u001b[0m     ground_floor_height, attr_name_gfh, method_gfh, max_dist\n\u001b[0;32m    300\u001b[0m )\n\u001b[0;32m    301\u001b[0m \u001b[38;5;28mself\u001b[39m\u001b[38;5;241m.\u001b[39msetup_extraction_method(extraction_method)\n",
      "File \u001b[1;32mc:\\Users\\tromp_wm\\AppData\\Local\\mambaforge\\envs\\DT-flood\\lib\\site-packages\\hydromt_fiat\\workflows\\exposure_vector.py:657\u001b[0m, in \u001b[0;36mExposureVector.setup_max_potential_damage\u001b[1;34m(self, max_potential_damage, damage_types, attr_name, method, max_dist, country)\u001b[0m\n\u001b[0;32m    654\u001b[0m     damage_values \u001b[38;5;241m=\u001b[39m preprocess_hazus_damage_values(damage_source)\n\u001b[0;32m    656\u001b[0m \u001b[38;5;66;03m# Calculate the area of each object\u001b[39;00m\n\u001b[1;32m--> 657\u001b[0m gdf \u001b[38;5;241m=\u001b[39m \u001b[38;5;28;43mself\u001b[39;49m\u001b[38;5;241;43m.\u001b[39;49m\u001b[43mget_full_gdf\u001b[49m\u001b[43m(\u001b[49m\u001b[38;5;28;43mself\u001b[39;49m\u001b[38;5;241;43m.\u001b[39;49m\u001b[43mexposure_db\u001b[49m\u001b[43m)\u001b[49m\u001b[43m[\u001b[49m\n\u001b[0;32m    658\u001b[0m \u001b[43m    \u001b[49m\u001b[43m[\u001b[49m\u001b[38;5;124;43m\"\u001b[39;49m\u001b[38;5;124;43mPrimary Object Type\u001b[39;49m\u001b[38;5;124;43m\"\u001b[39;49m\u001b[43m,\u001b[49m\u001b[43m \u001b[49m\u001b[38;5;124;43m\"\u001b[39;49m\u001b[38;5;124;43mgeometry\u001b[39;49m\u001b[38;5;124;43m\"\u001b[39;49m\u001b[43m]\u001b[49m\n\u001b[0;32m    659\u001b[0m \u001b[43m\u001b[49m\u001b[43m]\u001b[49m\n\u001b[0;32m    660\u001b[0m gdf \u001b[38;5;241m=\u001b[39m get_area(gdf)\n\u001b[0;32m    662\u001b[0m \u001b[38;5;66;03m# Set the damage values to the exposure data\u001b[39;00m\n",
      "File \u001b[1;32mc:\\Users\\tromp_wm\\AppData\\Local\\mambaforge\\envs\\DT-flood\\lib\\site-packages\\geopandas\\geodataframe.py:1474\u001b[0m, in \u001b[0;36mGeoDataFrame.__getitem__\u001b[1;34m(self, key)\u001b[0m\n\u001b[0;32m   1468\u001b[0m \u001b[38;5;28;01mdef\u001b[39;00m \u001b[38;5;21m__getitem__\u001b[39m(\u001b[38;5;28mself\u001b[39m, key):\n\u001b[0;32m   1469\u001b[0m \u001b[38;5;250m    \u001b[39m\u001b[38;5;124;03m\"\"\"\u001b[39;00m\n\u001b[0;32m   1470\u001b[0m \u001b[38;5;124;03m    If the result is a column containing only 'geometry', return a\u001b[39;00m\n\u001b[0;32m   1471\u001b[0m \u001b[38;5;124;03m    GeoSeries. If it's a DataFrame with any columns of GeometryDtype,\u001b[39;00m\n\u001b[0;32m   1472\u001b[0m \u001b[38;5;124;03m    return a GeoDataFrame.\u001b[39;00m\n\u001b[0;32m   1473\u001b[0m \u001b[38;5;124;03m    \"\"\"\u001b[39;00m\n\u001b[1;32m-> 1474\u001b[0m     result \u001b[38;5;241m=\u001b[39m \u001b[38;5;28;43msuper\u001b[39;49m\u001b[43m(\u001b[49m\u001b[43m)\u001b[49m\u001b[38;5;241;43m.\u001b[39;49m\u001b[38;5;21;43m__getitem__\u001b[39;49m\u001b[43m(\u001b[49m\u001b[43mkey\u001b[49m\u001b[43m)\u001b[49m\n\u001b[0;32m   1475\u001b[0m     \u001b[38;5;66;03m# Custom logic to avoid waiting for pandas GH51895\u001b[39;00m\n\u001b[0;32m   1476\u001b[0m     \u001b[38;5;66;03m# result is not geometry dtype for multi-indexes\u001b[39;00m\n\u001b[0;32m   1477\u001b[0m     \u001b[38;5;28;01mif\u001b[39;00m (\n\u001b[0;32m   1478\u001b[0m         pd\u001b[38;5;241m.\u001b[39mapi\u001b[38;5;241m.\u001b[39mtypes\u001b[38;5;241m.\u001b[39mis_scalar(key)\n\u001b[0;32m   1479\u001b[0m         \u001b[38;5;129;01mand\u001b[39;00m key \u001b[38;5;241m==\u001b[39m \u001b[38;5;124m\"\u001b[39m\u001b[38;5;124m\"\u001b[39m\n\u001b[1;32m   (...)\u001b[0m\n\u001b[0;32m   1482\u001b[0m         \u001b[38;5;129;01mand\u001b[39;00m \u001b[38;5;129;01mnot\u001b[39;00m is_geometry_type(result)\n\u001b[0;32m   1483\u001b[0m     ):\n",
      "File \u001b[1;32mc:\\Users\\tromp_wm\\AppData\\Local\\mambaforge\\envs\\DT-flood\\lib\\site-packages\\pandas\\core\\frame.py:3813\u001b[0m, in \u001b[0;36mDataFrame.__getitem__\u001b[1;34m(self, key)\u001b[0m\n\u001b[0;32m   3811\u001b[0m     \u001b[38;5;28;01mif\u001b[39;00m is_iterator(key):\n\u001b[0;32m   3812\u001b[0m         key \u001b[38;5;241m=\u001b[39m \u001b[38;5;28mlist\u001b[39m(key)\n\u001b[1;32m-> 3813\u001b[0m     indexer \u001b[38;5;241m=\u001b[39m \u001b[38;5;28;43mself\u001b[39;49m\u001b[38;5;241;43m.\u001b[39;49m\u001b[43mcolumns\u001b[49m\u001b[38;5;241;43m.\u001b[39;49m\u001b[43m_get_indexer_strict\u001b[49m\u001b[43m(\u001b[49m\u001b[43mkey\u001b[49m\u001b[43m,\u001b[49m\u001b[43m \u001b[49m\u001b[38;5;124;43m\"\u001b[39;49m\u001b[38;5;124;43mcolumns\u001b[39;49m\u001b[38;5;124;43m\"\u001b[39;49m\u001b[43m)\u001b[49m[\u001b[38;5;241m1\u001b[39m]\n\u001b[0;32m   3815\u001b[0m \u001b[38;5;66;03m# take() does not accept boolean indexers\u001b[39;00m\n\u001b[0;32m   3816\u001b[0m \u001b[38;5;28;01mif\u001b[39;00m \u001b[38;5;28mgetattr\u001b[39m(indexer, \u001b[38;5;124m\"\u001b[39m\u001b[38;5;124mdtype\u001b[39m\u001b[38;5;124m\"\u001b[39m, \u001b[38;5;28;01mNone\u001b[39;00m) \u001b[38;5;241m==\u001b[39m \u001b[38;5;28mbool\u001b[39m:\n",
      "File \u001b[1;32mc:\\Users\\tromp_wm\\AppData\\Local\\mambaforge\\envs\\DT-flood\\lib\\site-packages\\pandas\\core\\indexes\\base.py:6070\u001b[0m, in \u001b[0;36mIndex._get_indexer_strict\u001b[1;34m(self, key, axis_name)\u001b[0m\n\u001b[0;32m   6067\u001b[0m \u001b[38;5;28;01melse\u001b[39;00m:\n\u001b[0;32m   6068\u001b[0m     keyarr, indexer, new_indexer \u001b[38;5;241m=\u001b[39m \u001b[38;5;28mself\u001b[39m\u001b[38;5;241m.\u001b[39m_reindex_non_unique(keyarr)\n\u001b[1;32m-> 6070\u001b[0m \u001b[38;5;28;43mself\u001b[39;49m\u001b[38;5;241;43m.\u001b[39;49m\u001b[43m_raise_if_missing\u001b[49m\u001b[43m(\u001b[49m\u001b[43mkeyarr\u001b[49m\u001b[43m,\u001b[49m\u001b[43m \u001b[49m\u001b[43mindexer\u001b[49m\u001b[43m,\u001b[49m\u001b[43m \u001b[49m\u001b[43maxis_name\u001b[49m\u001b[43m)\u001b[49m\n\u001b[0;32m   6072\u001b[0m keyarr \u001b[38;5;241m=\u001b[39m \u001b[38;5;28mself\u001b[39m\u001b[38;5;241m.\u001b[39mtake(indexer)\n\u001b[0;32m   6073\u001b[0m \u001b[38;5;28;01mif\u001b[39;00m \u001b[38;5;28misinstance\u001b[39m(key, Index):\n\u001b[0;32m   6074\u001b[0m     \u001b[38;5;66;03m# GH 42790 - Preserve name from an Index\u001b[39;00m\n",
      "File \u001b[1;32mc:\\Users\\tromp_wm\\AppData\\Local\\mambaforge\\envs\\DT-flood\\lib\\site-packages\\pandas\\core\\indexes\\base.py:6133\u001b[0m, in \u001b[0;36mIndex._raise_if_missing\u001b[1;34m(self, key, indexer, axis_name)\u001b[0m\n\u001b[0;32m   6130\u001b[0m     \u001b[38;5;28;01mraise\u001b[39;00m \u001b[38;5;167;01mKeyError\u001b[39;00m(\u001b[38;5;124mf\u001b[39m\u001b[38;5;124m\"\u001b[39m\u001b[38;5;124mNone of [\u001b[39m\u001b[38;5;132;01m{\u001b[39;00mkey\u001b[38;5;132;01m}\u001b[39;00m\u001b[38;5;124m] are in the [\u001b[39m\u001b[38;5;132;01m{\u001b[39;00maxis_name\u001b[38;5;132;01m}\u001b[39;00m\u001b[38;5;124m]\u001b[39m\u001b[38;5;124m\"\u001b[39m)\n\u001b[0;32m   6132\u001b[0m not_found \u001b[38;5;241m=\u001b[39m \u001b[38;5;28mlist\u001b[39m(ensure_index(key)[missing_mask\u001b[38;5;241m.\u001b[39mnonzero()[\u001b[38;5;241m0\u001b[39m]]\u001b[38;5;241m.\u001b[39munique())\n\u001b[1;32m-> 6133\u001b[0m \u001b[38;5;28;01mraise\u001b[39;00m \u001b[38;5;167;01mKeyError\u001b[39;00m(\u001b[38;5;124mf\u001b[39m\u001b[38;5;124m\"\u001b[39m\u001b[38;5;132;01m{\u001b[39;00mnot_found\u001b[38;5;132;01m}\u001b[39;00m\u001b[38;5;124m not in index\u001b[39m\u001b[38;5;124m\"\u001b[39m)\n",
      "\u001b[1;31mKeyError\u001b[0m: \"['Primary Object Type'] not in index\""
     ]
    }
   ],
   "source": [
    "fiat.build(region={\"geom\": region}, opt=configuration, write=True)"
   ]
  },
  {
   "cell_type": "markdown",
   "metadata": {},
   "source": [
    "## **Step 5**: Inspect model\n",
    "We now inspect the resulting exposure data and vulnerability curves that will be saved in the `fiat` instance.\n",
    "\n",
    "### Exposure data\n",
    "In the map below, the region and Secondary Object Type of the exposure objects are plotted. You can zoom in and see whether the data makes sense, perhaps using Google maps and/or streetview to validate the occupancy types.\n",
    "\n",
    "*Note: In Delft-FIAT, exposure is defined with object footprints, lines or centroids. In this example we are only using the buildings extracted from the OSM data. This means we are not going to look into, e.g., farmland, roads, etc. but that is possible with Delft-FIAT.*"
   ]
  },
  {
   "cell_type": "code",
   "execution_count": 17,
   "metadata": {},
   "outputs": [
    {
     "data": {
      "text/html": [
       "<div>\n",
       "<style scoped>\n",
       "    .dataframe tbody tr th:only-of-type {\n",
       "        vertical-align: middle;\n",
       "    }\n",
       "\n",
       "    .dataframe tbody tr th {\n",
       "        vertical-align: top;\n",
       "    }\n",
       "\n",
       "    .dataframe thead th {\n",
       "        text-align: right;\n",
       "    }\n",
       "</style>\n",
       "<table border=\"1\" class=\"dataframe\">\n",
       "  <thead>\n",
       "    <tr style=\"text-align: right;\">\n",
       "      <th></th>\n",
       "      <th>Object ID</th>\n",
       "      <th>Primary Object Type</th>\n",
       "      <th>Secondary Object Type</th>\n",
       "      <th>Max Potential Damage: Total</th>\n",
       "      <th>Ground Floor Height</th>\n",
       "      <th>Extraction Method</th>\n",
       "      <th>Ground Elevation</th>\n",
       "      <th>Damage Function: Total</th>\n",
       "      <th>geometry</th>\n",
       "    </tr>\n",
       "  </thead>\n",
       "  <tbody>\n",
       "    <tr>\n",
       "      <th>36848</th>\n",
       "      <td>801694934</td>\n",
       "      <td>residential</td>\n",
       "      <td>residential</td>\n",
       "      <td>2.475505e-01</td>\n",
       "      <td>0</td>\n",
       "      <td>centroid</td>\n",
       "      <td>0</td>\n",
       "      <td>residential_total</td>\n",
       "      <td>POLYGON ((-0.64378 53.79753, -0.64378 53.79753...</td>\n",
       "    </tr>\n",
       "    <tr>\n",
       "      <th>13331</th>\n",
       "      <td>1011539405</td>\n",
       "      <td>residential</td>\n",
       "      <td>residential</td>\n",
       "      <td>3.684712e+01</td>\n",
       "      <td>0</td>\n",
       "      <td>centroid</td>\n",
       "      <td>0</td>\n",
       "      <td>residential_total</td>\n",
       "      <td>POLYGON ((-0.85591 53.61783, -0.85599 53.61777...</td>\n",
       "    </tr>\n",
       "    <tr>\n",
       "      <th>36150</th>\n",
       "      <td>318837779</td>\n",
       "      <td>residential</td>\n",
       "      <td>residential</td>\n",
       "      <td>4.230074e+01</td>\n",
       "      <td>0</td>\n",
       "      <td>centroid</td>\n",
       "      <td>0</td>\n",
       "      <td>residential_total</td>\n",
       "      <td>POLYGON ((-0.64991 53.77998, -0.64990 53.77995...</td>\n",
       "    </tr>\n",
       "    <tr>\n",
       "      <th>36226</th>\n",
       "      <td>318837900</td>\n",
       "      <td>residential</td>\n",
       "      <td>residential</td>\n",
       "      <td>2.233418e+02</td>\n",
       "      <td>0</td>\n",
       "      <td>centroid</td>\n",
       "      <td>0</td>\n",
       "      <td>residential_total</td>\n",
       "      <td>POLYGON ((-0.64979 53.77963, -0.64976 53.77955...</td>\n",
       "    </tr>\n",
       "    <tr>\n",
       "      <th>36279</th>\n",
       "      <td>318838002</td>\n",
       "      <td>residential</td>\n",
       "      <td>residential</td>\n",
       "      <td>8.927019e+02</td>\n",
       "      <td>0</td>\n",
       "      <td>centroid</td>\n",
       "      <td>0</td>\n",
       "      <td>residential_total</td>\n",
       "      <td>POLYGON ((-0.64982 53.77972, -0.64979 53.77963...</td>\n",
       "    </tr>\n",
       "    <tr>\n",
       "      <th>...</th>\n",
       "      <td>...</td>\n",
       "      <td>...</td>\n",
       "      <td>...</td>\n",
       "      <td>...</td>\n",
       "      <td>...</td>\n",
       "      <td>...</td>\n",
       "      <td>...</td>\n",
       "      <td>...</td>\n",
       "      <td>...</td>\n",
       "    </tr>\n",
       "    <tr>\n",
       "      <th>8888</th>\n",
       "      <td>85439161</td>\n",
       "      <td>industrial</td>\n",
       "      <td>industrial</td>\n",
       "      <td>7.192024e+07</td>\n",
       "      <td>0</td>\n",
       "      <td>centroid</td>\n",
       "      <td>0</td>\n",
       "      <td>industrial_total</td>\n",
       "      <td>POLYGON ((-0.60412 53.56757, -0.60222 53.56739...</td>\n",
       "    </tr>\n",
       "    <tr>\n",
       "      <th>9149</th>\n",
       "      <td>2053662</td>\n",
       "      <td>industrial</td>\n",
       "      <td>industrial</td>\n",
       "      <td>7.707120e+07</td>\n",
       "      <td>0</td>\n",
       "      <td>centroid</td>\n",
       "      <td>0</td>\n",
       "      <td>industrial_total</td>\n",
       "      <td>POLYGON ((-0.62425 53.58124, -0.62428 53.58186...</td>\n",
       "    </tr>\n",
       "    <tr>\n",
       "      <th>109384</th>\n",
       "      <td>1090620843</td>\n",
       "      <td>industrial</td>\n",
       "      <td>industrial</td>\n",
       "      <td>7.692684e+07</td>\n",
       "      <td>0</td>\n",
       "      <td>centroid</td>\n",
       "      <td>0</td>\n",
       "      <td>industrial_total</td>\n",
       "      <td>POLYGON ((-0.40691 53.68719, -0.40640 53.68373...</td>\n",
       "    </tr>\n",
       "    <tr>\n",
       "      <th>10409</th>\n",
       "      <td>258191164</td>\n",
       "      <td>commercial</td>\n",
       "      <td>commercial</td>\n",
       "      <td>1.420200e+08</td>\n",
       "      <td>0</td>\n",
       "      <td>centroid</td>\n",
       "      <td>0</td>\n",
       "      <td>commercial_total</td>\n",
       "      <td>POLYGON ((-1.03251 53.54196, -1.03256 53.54190...</td>\n",
       "    </tr>\n",
       "    <tr>\n",
       "      <th>8887</th>\n",
       "      <td>85438440</td>\n",
       "      <td>industrial</td>\n",
       "      <td>industrial</td>\n",
       "      <td>1.928251e+08</td>\n",
       "      <td>0</td>\n",
       "      <td>centroid</td>\n",
       "      <td>0</td>\n",
       "      <td>industrial_total</td>\n",
       "      <td>POLYGON ((-0.60723 53.56985, -0.60709 53.57035...</td>\n",
       "    </tr>\n",
       "  </tbody>\n",
       "</table>\n",
       "<p>136013 rows × 9 columns</p>\n",
       "</div>"
      ],
      "text/plain": [
       "         Object ID Primary Object Type Secondary Object Type  \\\n",
       "36848    801694934         residential           residential   \n",
       "13331   1011539405         residential           residential   \n",
       "36150    318837779         residential           residential   \n",
       "36226    318837900         residential           residential   \n",
       "36279    318838002         residential           residential   \n",
       "...            ...                 ...                   ...   \n",
       "8888      85439161          industrial            industrial   \n",
       "9149       2053662          industrial            industrial   \n",
       "109384  1090620843          industrial            industrial   \n",
       "10409    258191164          commercial            commercial   \n",
       "8887      85438440          industrial            industrial   \n",
       "\n",
       "        Max Potential Damage: Total  Ground Floor Height Extraction Method  \\\n",
       "36848                  2.475505e-01                    0          centroid   \n",
       "13331                  3.684712e+01                    0          centroid   \n",
       "36150                  4.230074e+01                    0          centroid   \n",
       "36226                  2.233418e+02                    0          centroid   \n",
       "36279                  8.927019e+02                    0          centroid   \n",
       "...                             ...                  ...               ...   \n",
       "8888                   7.192024e+07                    0          centroid   \n",
       "9149                   7.707120e+07                    0          centroid   \n",
       "109384                 7.692684e+07                    0          centroid   \n",
       "10409                  1.420200e+08                    0          centroid   \n",
       "8887                   1.928251e+08                    0          centroid   \n",
       "\n",
       "        Ground Elevation Damage Function: Total  \\\n",
       "36848                  0      residential_total   \n",
       "13331                  0      residential_total   \n",
       "36150                  0      residential_total   \n",
       "36226                  0      residential_total   \n",
       "36279                  0      residential_total   \n",
       "...                  ...                    ...   \n",
       "8888                   0       industrial_total   \n",
       "9149                   0       industrial_total   \n",
       "109384                 0       industrial_total   \n",
       "10409                  0       commercial_total   \n",
       "8887                   0       industrial_total   \n",
       "\n",
       "                                                 geometry  \n",
       "36848   POLYGON ((-0.64378 53.79753, -0.64378 53.79753...  \n",
       "13331   POLYGON ((-0.85591 53.61783, -0.85599 53.61777...  \n",
       "36150   POLYGON ((-0.64991 53.77998, -0.64990 53.77995...  \n",
       "36226   POLYGON ((-0.64979 53.77963, -0.64976 53.77955...  \n",
       "36279   POLYGON ((-0.64982 53.77972, -0.64979 53.77963...  \n",
       "...                                                   ...  \n",
       "8888    POLYGON ((-0.60412 53.56757, -0.60222 53.56739...  \n",
       "9149    POLYGON ((-0.62425 53.58124, -0.62428 53.58186...  \n",
       "109384  POLYGON ((-0.40691 53.68719, -0.40640 53.68373...  \n",
       "10409   POLYGON ((-1.03251 53.54196, -1.03256 53.54190...  \n",
       "8887    POLYGON ((-0.60723 53.56985, -0.60709 53.57035...  \n",
       "\n",
       "[136013 rows x 9 columns]"
      ]
     },
     "execution_count": 17,
     "metadata": {},
     "output_type": "execute_result"
    }
   ],
   "source": [
    "fiat.exposure.get_full_gdf(fiat.exposure.exposure_db)"
   ]
  },
  {
   "cell_type": "code",
   "execution_count": null,
   "metadata": {},
   "outputs": [],
   "source": [
    "# Get the geodataframe with exposure data\n",
    "gdf = fiat.exposure.get_full_gdf(fiat.exposure.exposure_db)\n",
    "\n",
    "# Plot the region and the secondary object types of the exposure data\n",
    "m = region.explore(name='Region', style_kwds={'color': 'black', 'fill': False})\n",
    "m = gdf.explore(m=m, column='Secondary Object Type', name='Exposure types')\n",
    "m"
   ]
  },
  {
   "cell_type": "markdown",
   "metadata": {},
   "source": [
    "## **Step 6:** Write model\n",
    "\n",
    "Finally, write the model in a folder structure appropriate for FloodAdapt. The right folders should be created automatically if our `model_path` and `fiat_root` are correct."
   ]
  },
  {
   "cell_type": "code",
   "execution_count": 11,
   "metadata": {},
   "outputs": [
    {
     "name": "stdout",
     "output_type": "stream",
     "text": [
      "2024-01-30 09:59:49,168 - FIAT_logger - fiat - INFO - Updating all data objects...\n"
     ]
    },
    {
     "name": "stderr",
     "output_type": "stream",
     "text": [
      "INFO:FIAT_logger:Updating all data objects...\n"
     ]
    },
    {
     "name": "stdout",
     "output_type": "stream",
     "text": [
      "2024-01-30 09:59:49,172 - FIAT_logger - model_api - WARNING - Replacing geom: region\n"
     ]
    },
    {
     "name": "stderr",
     "output_type": "stream",
     "text": [
      "WARNING:FIAT_logger:Replacing geom: region\n"
     ]
    },
    {
     "name": "stdout",
     "output_type": "stream",
     "text": [
      "2024-01-30 09:59:49,174 - FIAT_logger - fiat - INFO - Writing model data to c:\\Repositories\\DT-flood\\FloodAdapt_database\\Humber\\static\\templates\\fiat\n"
     ]
    },
    {
     "name": "stderr",
     "output_type": "stream",
     "text": [
      "INFO:FIAT_logger:Writing model data to c:\\Repositories\\DT-flood\\FloodAdapt_database\\Humber\\static\\templates\\fiat\n"
     ]
    },
    {
     "name": "stdout",
     "output_type": "stream",
     "text": [
      "2024-01-30 09:59:49,175 - FIAT_logger - model_api - INFO - Writing model config to c:\\Repositories\\DT-flood\\FloodAdapt_database\\Humber\\static\\templates\\fiat\\settings.toml\n"
     ]
    },
    {
     "name": "stderr",
     "output_type": "stream",
     "text": [
      "INFO:FIAT_logger:Writing model config to c:\\Repositories\\DT-flood\\FloodAdapt_database\\Humber\\static\\templates\\fiat\\settings.toml\n"
     ]
    },
    {
     "name": "stdout",
     "output_type": "stream",
     "text": [
      "2024-01-30 09:59:49,178 - FIAT_logger - model_api - DEBUG - Writing file exposure/region.gpkg\n"
     ]
    },
    {
     "name": "stderr",
     "output_type": "stream",
     "text": [
      "DEBUG:FIAT_logger:Writing file exposure/region.gpkg\n"
     ]
    },
    {
     "name": "stdout",
     "output_type": "stream",
     "text": [
      "2024-01-30 09:59:49,256 - FIAT_logger - model_api - DEBUG - Writing file exposure/buildings.gpkg\n"
     ]
    },
    {
     "name": "stderr",
     "output_type": "stream",
     "text": [
      "DEBUG:FIAT_logger:Writing file exposure/buildings.gpkg\n"
     ]
    },
    {
     "name": "stdout",
     "output_type": "stream",
     "text": [
      "2024-01-30 10:00:09,631 - FIAT_logger - fiat - INFO - Writing model exposure table file to exposure/exposure.csv.\n"
     ]
    },
    {
     "name": "stderr",
     "output_type": "stream",
     "text": [
      "INFO:FIAT_logger:Writing model exposure table file to exposure/exposure.csv.\n"
     ]
    },
    {
     "name": "stdout",
     "output_type": "stream",
     "text": [
      "2024-01-30 10:00:10,013 - FIAT_logger - fiat - INFO - Writing model vulnerability_curves table file to vulnerability/vulnerability_curves.csv.\n"
     ]
    },
    {
     "name": "stderr",
     "output_type": "stream",
     "text": [
      "INFO:FIAT_logger:Writing model vulnerability_curves table file to vulnerability/vulnerability_curves.csv.\n"
     ]
    },
    {
     "name": "stdout",
     "output_type": "stream",
     "text": [
      "2024-01-30 10:00:10,019 - FIAT_logger - fiat - INFO - Writing model vulnerability_identifiers table file to vulnerability/vulnerability_identifiers.csv.\n"
     ]
    },
    {
     "name": "stderr",
     "output_type": "stream",
     "text": [
      "INFO:FIAT_logger:Writing model vulnerability_identifiers table file to vulnerability/vulnerability_identifiers.csv.\n"
     ]
    },
    {
     "name": "stdout",
     "output_type": "stream",
     "text": [
      "+ c:\\Repositories\\DT-flood\\FloodAdapt_database\\Humber\\static\\templates\\fiat\n",
      "  + exposure\n",
      "    + buildings.gpkg\n",
      "    + exposure.csv\n",
      "    + region.gpkg\n",
      "  + hazard\n",
      "  + hydromt.log\n",
      "  + output\n",
      "  + settings.toml\n",
      "  + vulnerability\n",
      "    + vulnerability_curves.csv\n",
      "    + vulnerability_identifiers.csv\n"
     ]
    }
   ],
   "source": [
    "fiat.write()\n",
    "\n",
    "def tree(directory):\n",
    "    print(f\"+ {directory}\")\n",
    "    for path in sorted(directory.rglob('*')):\n",
    "        depth = len(path.relative_to(directory).parts)\n",
    "        spacer = \"  \" * depth\n",
    "        print(f\"{spacer}+ {path.name}\")\n",
    "\n",
    "\n",
    "tree(Path(fiat.root))"
   ]
  },
  {
   "cell_type": "markdown",
   "metadata": {},
   "source": [
    "## **Step 7:** Double check exposure csv\n",
    "\n",
    "The written exposure csv is probably missing the 'Ground Elevation' column, without which FIAT won't run. This column contains the average height of each building footprint. Here we calculate these numbers using xrspatial.zonal_stats. We will use the SFINCS subgrid as DEM.\n",
    "\n",
    "We do need to be carefull with the zonal_stats output. This generally contains less entries than the number of shapes, due to either duplicate shapes (the csv contains the same footprint multiple times with different asset types) or geometries being rasterized to the same pixels. The rasterize output will only contain the results of the last occurence. We use the fact that in either case the rasterization is the same to copy the appropriate results for the shapes that didn't get rasterized.\n",
    "\n",
    "*Note: hydromt also has a zonal_stats function but it's very slow*"
   ]
  },
  {
   "cell_type": "code",
   "execution_count": 19,
   "metadata": {},
   "outputs": [],
   "source": [
    "dem_path = model_path / 'static' / 'templates' / 'overland' / 'subgrid' / 'dep_subgrid.tif'\n",
    "exposure_path = fiat_root / 'exposure' / 'exposure.csv'\n",
    "buildings_path = fiat_root / 'exposure' / 'buildings.gpkg'"
   ]
  },
  {
   "cell_type": "code",
   "execution_count": 26,
   "metadata": {},
   "outputs": [],
   "source": [
    "# Make a GeoDataFrame of the exposure csv\n",
    "exposure = pd.read_csv(exposure_path)\n",
    "buildings = gpd.read_file(buildings_path)\n",
    "gdf = buildings.merge(exposure, on=\"Object ID\")\n",
    "# gdf = gpd.GeoDataFrame(exposure.drop(columns='geometry'), geometry=gpd.GeoSeries.from_wkt(exposure['geometry']),crs=\"EPSG:4326\")\n"
   ]
  },
  {
   "cell_type": "code",
   "execution_count": 27,
   "metadata": {},
   "outputs": [],
   "source": [
    "# Read in the DEM\n",
    "dem = rasterio.open(dem_path)"
   ]
  },
  {
   "cell_type": "code",
   "execution_count": 28,
   "metadata": {},
   "outputs": [
    {
     "name": "stderr",
     "output_type": "stream",
     "text": [
      "WARNING:py.warnings:c:\\Users\\tromp_wm\\AppData\\Local\\mambaforge\\envs\\DT-flood\\lib\\site-packages\\pyproj\\crs\\crs.py:141: FutureWarning: '+init=<authority>:<code>' syntax is deprecated. '<authority>:<code>' is the preferred initialization method. When making the change, be mindful of axis order changes: https://pyproj4.github.io/pyproj/stable/gotchas.html#axis-order-changes-in-proj-6\n",
      "  in_crs_string = _prepare_from_proj_string(in_crs_string)\n",
      "\n"
     ]
    }
   ],
   "source": [
    "# Convert the exposure geometries to the dem crs\n",
    "gdf = gdf.to_crs(dem.crs.data)"
   ]
  },
  {
   "cell_type": "code",
   "execution_count": 29,
   "metadata": {},
   "outputs": [],
   "source": [
    "# Create a list of geometries plus a label for rasterize\n",
    "# The labels start at 1 since the label 0 is reserved for everything not in a geometry\n",
    "# The order of each tuple is (geometry,label)\n",
    "shapes = list(enumerate(gdf['geometry'].values))\n",
    "shapes = [(t[1],t[0]+1) for t in shapes]"
   ]
  },
  {
   "cell_type": "code",
   "execution_count": 30,
   "metadata": {},
   "outputs": [],
   "source": [
    "rasterized = rasterize(\n",
    "    shapes=shapes,\n",
    "    out_shape=dem.shape,\n",
    "    transform=dem.transform,\n",
    "    all_touched=True\n",
    ")\n",
    "# zonal_stats needs xarrays as input\n",
    "rasterized = xr.DataArray(rasterized)"
   ]
  },
  {
   "cell_type": "code",
   "execution_count": 31,
   "metadata": {},
   "outputs": [],
   "source": [
    "# Calculate the zonal statistics\n",
    "zonal_out = zonal_stats(rasterized,xr.DataArray(dem.read(1)),\n",
    "                        stats_funcs=['mean'],\n",
    "                        nodata_values=np.nan)\n",
    "\n",
    "# The zero label is for pixels not in a geometry so we discard them\n",
    "zonal_out = zonal_out.drop(0)"
   ]
  },
  {
   "cell_type": "code",
   "execution_count": 32,
   "metadata": {},
   "outputs": [],
   "source": [
    "# Array storing the zonal means\n",
    "# Store the calculated means at index corresponding to their label\n",
    "zonal_means = np.full(len(shapes),np.nan)\n",
    "zonal_means[[zonal_out['zone'].values-1]] = zonal_out['mean'].values\n"
   ]
  },
  {
   "cell_type": "code",
   "execution_count": 33,
   "metadata": {},
   "outputs": [],
   "source": [
    "# Add Ground Elevation column and get rid of nans in the appropriate way\n",
    "exposure['Ground Elevation'] = zonal_means\n",
    "exposure['Ground Elevation'].bfill(inplace=True)"
   ]
  },
  {
   "cell_type": "code",
   "execution_count": 34,
   "metadata": {},
   "outputs": [],
   "source": [
    "# Save to csv\n",
    "exposure_path.unlink()\n",
    "exposure.to_csv(exposure_path)"
   ]
  },
  {
   "cell_type": "markdown",
   "metadata": {},
   "source": [
    "## **Step 8:** Manual aggregation zones\n",
    "\n",
    "Should the setup_aggregation_areas fail when building the model, comment `setup_aggregation_areas` in the `config` dict and run the below cells. This will manually configure the aggregation areas with the data specified in `aggregation_area_fn`"
   ]
  },
  {
   "cell_type": "code",
   "execution_count": 40,
   "metadata": {},
   "outputs": [],
   "source": [
    "# Load in the exposure table and the aggregation zone file\n",
    "# exposure_gdf = fiat.exposure.get_full_gdf(fiat.exposure.exposure_db)\n",
    "exposure_path = fiat_root / 'exposure' / 'exposure.csv'\n",
    "buildings_path = fiat_root / 'exposure' / 'buildings.gpkg'\n",
    "\n",
    "exposure = pd.read_csv(exposure_path)\n",
    "buildings = gpd.read_file(buildings_path)\n",
    "\n",
    "exposure_gdf = buildings.merge(exposure, on=\"Object ID\")\n",
    "agg_zone_gdf = gpd.read_file(aggregation_area_fn[0], mask=region)"
   ]
  },
  {
   "cell_type": "code",
   "execution_count": 41,
   "metadata": {},
   "outputs": [
    {
     "name": "stderr",
     "output_type": "stream",
     "text": [
      "WARNING:py.warnings:c:\\Users\\tromp_wm\\AppData\\Local\\mambaforge\\envs\\DT-flood\\lib\\site-packages\\IPython\\core\\interactiveshell.py:3493: FutureWarning: The `op` parameter is deprecated and will be removed in a future release. Please use the `predicate` parameter instead.\n",
      "  if await self.run_code(code, result, async_=asy):\n",
      "\n"
     ]
    }
   ],
   "source": [
    "# Merge the two\n",
    "exposure_gdf = gpd.sjoin(\n",
    "    exposure_gdf,\n",
    "    agg_zone_gdf[[\"geometry\", attribute_names[0]]],\n",
    "    op=\"intersects\",\n",
    "    how=\"left\"\n",
    ")"
   ]
  },
  {
   "cell_type": "code",
   "execution_count": 42,
   "metadata": {},
   "outputs": [],
   "source": [
    "# Handle duplicate Object IDs\n",
    "aggregated_gdf = exposure_gdf.groupby(\"Object ID\")[attribute_names[0]].agg(list).reset_index()\n",
    "\n",
    "exposure_gdf.drop_duplicates(subset=\"Object ID\", keep=\"first\", inplace=True)\n",
    "exposure_gdf.drop(columns=attribute_names[0], inplace=True)\n",
    "exposure_gdf = exposure_gdf.merge(aggregated_gdf, on=\"Object ID\")"
   ]
  },
  {
   "cell_type": "code",
   "execution_count": 43,
   "metadata": {},
   "outputs": [],
   "source": [
    "# Clean up by renaming and deleting appropriate columns\n",
    "\n",
    "def process_value(value):\n",
    "    if isinstance(value, list) and len(value) == 1:\n",
    "        return value[0]\n",
    "    elif isinstance(value, list) and len(value) > 1:\n",
    "        return \", \".join(value)\n",
    "    else:\n",
    "        return value\n",
    "    \n",
    "exposure_gdf[attribute_names[0]] = exposure_gdf[attribute_names[0]].apply(process_value)\n",
    "\n",
    "exposure_gdf.rename(columns={attribute_names[0]: f\"Aggregation Label: {label_names[0]}\"}, inplace=True)\n",
    "\n",
    "if \"index_right\" in exposure_gdf.columns:\n",
    "    del exposure_gdf[\"index_right\"]"
   ]
  },
  {
   "cell_type": "code",
   "execution_count": null,
   "metadata": {},
   "outputs": [],
   "source": [
    "# Save new exposure table\n",
    "exposure_path.unlink()\n",
    "exposure_gdf.to_csv(exposure_path)"
   ]
  },
  {
   "cell_type": "markdown",
   "metadata": {},
   "source": []
  },
  {
   "cell_type": "markdown",
   "metadata": {},
   "source": []
  }
 ],
 "metadata": {
  "kernelspec": {
   "display_name": "Python 3",
   "language": "python",
   "name": "python3"
  },
  "language_info": {
   "codemirror_mode": {
    "name": "ipython",
    "version": 3
   },
   "file_extension": ".py",
   "mimetype": "text/x-python",
   "name": "python",
   "nbconvert_exporter": "python",
   "pygments_lexer": "ipython3",
   "version": "3.10.13"
  },
  "orig_nbformat": 4
 },
 "nbformat": 4,
 "nbformat_minor": 2
}
